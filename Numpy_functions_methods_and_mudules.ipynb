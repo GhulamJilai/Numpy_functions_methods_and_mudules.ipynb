{
  "nbformat": 4,
  "nbformat_minor": 0,
  "metadata": {
    "colab": {
      "provenance": []
    },
    "kernelspec": {
      "name": "python3",
      "display_name": "Python 3"
    },
    "language_info": {
      "name": "python"
    }
  },
  "cells": [
    {
      "cell_type": "code",
      "execution_count": null,
      "metadata": {
        "id": "GBb9dmCLjlwm"
      },
      "outputs": [],
      "source": [
        "jilani= \"ghulamjilani\""
      ]
    },
    {
      "cell_type": "code",
      "source": [
        "jilani\n"
      ],
      "metadata": {
        "colab": {
          "base_uri": "https://localhost:8080/",
          "height": 35
        },
        "id": "GFwo4O0bjv7R",
        "outputId": "5126cd86-909c-4a28-b728-0678bd51dea6"
      },
      "execution_count": null,
      "outputs": [
        {
          "output_type": "execute_result",
          "data": {
            "text/plain": [
              "'ghulamjilani'"
            ],
            "application/vnd.google.colaboratory.intrinsic+json": {
              "type": "string"
            }
          },
          "metadata": {},
          "execution_count": 6
        }
      ]
    },
    {
      "cell_type": "code",
      "source": [
        "# absolute value\n",
        "abs(-5)"
      ],
      "metadata": {
        "id": "YcqZkr76kQPP",
        "colab": {
          "base_uri": "https://localhost:8080/"
        },
        "outputId": "aff1b004-343c-464e-b2b3-7eae0a7f3f6c"
      },
      "execution_count": null,
      "outputs": [
        {
          "output_type": "execute_result",
          "data": {
            "text/plain": [
              "5"
            ]
          },
          "metadata": {},
          "execution_count": 1
        }
      ]
    },
    {
      "cell_type": "code",
      "source": [
        "# lists\n",
        "list= [12,34,4545,45,45,]\n",
        "list"
      ],
      "metadata": {
        "colab": {
          "base_uri": "https://localhost:8080/"
        },
        "id": "YkOgck212UkA",
        "outputId": "d758a8d8-f96f-435e-abb0-305dec186c5f"
      },
      "execution_count": null,
      "outputs": [
        {
          "output_type": "execute_result",
          "data": {
            "text/plain": [
              "[12, 34, 4545, 45, 45]"
            ]
          },
          "metadata": {},
          "execution_count": 3
        }
      ]
    },
    {
      "cell_type": "code",
      "source": [
        "# list indexing\n",
        "list[3]"
      ],
      "metadata": {
        "colab": {
          "base_uri": "https://localhost:8080/"
        },
        "id": "6NS_-ZbV2kkh",
        "outputId": "39368673-02ed-4682-c5b8-10b2ce1325f0"
      },
      "execution_count": null,
      "outputs": [
        {
          "output_type": "execute_result",
          "data": {
            "text/plain": [
              "45"
            ]
          },
          "metadata": {},
          "execution_count": 4
        }
      ]
    },
    {
      "cell_type": "code",
      "source": [
        "list.append(2324)"
      ],
      "metadata": {
        "id": "MzQl66A422is"
      },
      "execution_count": null,
      "outputs": []
    },
    {
      "cell_type": "code",
      "source": [
        "print(list)"
      ],
      "metadata": {
        "colab": {
          "base_uri": "https://localhost:8080/"
        },
        "id": "th3Q299o3BpG",
        "outputId": "9abfb07d-e39c-48fa-bc0b-05790c76af1b"
      },
      "execution_count": null,
      "outputs": [
        {
          "output_type": "stream",
          "name": "stdout",
          "text": [
            "[12, 34, 4545, 45, 45, 2324, 2324]\n"
          ]
        }
      ]
    },
    {
      "cell_type": "code",
      "source": [
        "len(list)"
      ],
      "metadata": {
        "colab": {
          "base_uri": "https://localhost:8080/"
        },
        "id": "wesvyXpQ3R5F",
        "outputId": "881b73dd-c659-404b-f303-17e4383ae293"
      },
      "execution_count": null,
      "outputs": [
        {
          "output_type": "execute_result",
          "data": {
            "text/plain": [
              "7"
            ]
          },
          "metadata": {},
          "execution_count": 10
        }
      ]
    },
    {
      "cell_type": "markdown",
      "source": [
        "# some useful **functions**"
      ],
      "metadata": {
        "id": "WGGPUEvI3dsc"
      }
    },
    {
      "cell_type": "code",
      "source": [
        "\"islamabad\",\"lahore\",\"karachi\",\"awfera\",\"12344\".split(',')"
      ],
      "metadata": {
        "colab": {
          "base_uri": "https://localhost:8080/"
        },
        "id": "FAIJZaOR3XJZ",
        "outputId": "cd200cfa-037e-4d4b-979b-7bd70c7caead"
      },
      "execution_count": null,
      "outputs": [
        {
          "output_type": "execute_result",
          "data": {
            "text/plain": [
              "('islamabad', 'lahore', 'karachi', 'awfera', ['12344'])"
            ]
          },
          "metadata": {},
          "execution_count": 12
        }
      ]
    },
    {
      "cell_type": "code",
      "source": [
        "#  this is how to sum values of list\n",
        "list2 = [123,34,45,54,56,56,657,67,67,5,5]\n",
        "sum(list2)\n",
        "list2.index(56)"
      ],
      "metadata": {
        "colab": {
          "base_uri": "https://localhost:8080/"
        },
        "id": "EYi7QSgj4URN",
        "outputId": "883bcd79-35ae-4362-c15f-46fd60d4bb10"
      },
      "execution_count": null,
      "outputs": [
        {
          "output_type": "execute_result",
          "data": {
            "text/plain": [
              "4"
            ]
          },
          "metadata": {},
          "execution_count": 15
        }
      ]
    },
    {
      "cell_type": "code",
      "source": [
        "list2.sort()"
      ],
      "metadata": {
        "id": "C6wTLODE5BXo"
      },
      "execution_count": null,
      "outputs": []
    },
    {
      "cell_type": "code",
      "source": [
        "x=1\n",
        "range(23)\n",
        "x = +1\n",
        "x"
      ],
      "metadata": {
        "colab": {
          "base_uri": "https://localhost:8080/"
        },
        "id": "u-cSwChW6g3i",
        "outputId": "e2ff4fd9-7c8a-4ed8-8997-115ff0c3230a"
      },
      "execution_count": null,
      "outputs": [
        {
          "output_type": "execute_result",
          "data": {
            "text/plain": [
              "1"
            ]
          },
          "metadata": {},
          "execution_count": 22
        }
      ]
    },
    {
      "cell_type": "code",
      "source": [
        "# tuples?\n",
        "tuples = (12,34,4354,546,5,45,\"jilani\")\n",
        "tuples\n",
        "tuples[-3]"
      ],
      "metadata": {
        "colab": {
          "base_uri": "https://localhost:8080/"
        },
        "id": "d3GajN2i60Fn",
        "outputId": "6fe9fa1f-7730-46f3-b3e3-0b655d5fbf01"
      },
      "execution_count": null,
      "outputs": [
        {
          "output_type": "execute_result",
          "data": {
            "text/plain": [
              "5"
            ]
          },
          "metadata": {},
          "execution_count": 25
        }
      ]
    },
    {
      "cell_type": "code",
      "source": [
        "# dictionaaries\n",
        "dict1= {'Course_1': '10k', 'Course_2': '20k', 'Course_3': '30k'}\n",
        "dict1"
      ],
      "metadata": {
        "colab": {
          "base_uri": "https://localhost:8080/"
        },
        "id": "T_3SBcRP7UYq",
        "outputId": "50fbc4c3-e3e1-40bd-d898-bb61968b3a62"
      },
      "execution_count": null,
      "outputs": [
        {
          "output_type": "execute_result",
          "data": {
            "text/plain": [
              "{'Course_1': '10k', 'Course_2': '20k', 'Course_3': '30k'}"
            ]
          },
          "metadata": {},
          "execution_count": 26
        }
      ]
    },
    {
      "cell_type": "code",
      "source": [
        "dict1['Course_2']"
      ],
      "metadata": {
        "colab": {
          "base_uri": "https://localhost:8080/",
          "height": 35
        },
        "id": "EGVTDZOi8rzV",
        "outputId": "c0d30561-cc17-4ef9-ac6f-5e5d0a029371"
      },
      "execution_count": null,
      "outputs": [
        {
          "output_type": "execute_result",
          "data": {
            "text/plain": [
              "'20k'"
            ],
            "application/vnd.google.colaboratory.intrinsic+json": {
              "type": "string"
            }
          },
          "metadata": {},
          "execution_count": 27
        }
      ]
    },
    {
      "cell_type": "code",
      "source": [
        "dict1['Course_4'] = '40k'\n",
        "dict1"
      ],
      "metadata": {
        "colab": {
          "base_uri": "https://localhost:8080/"
        },
        "id": "H5MOLqhZ84uJ",
        "outputId": "3b6cb706-bfa6-4460-ad4a-745e94caeb6a"
      },
      "execution_count": null,
      "outputs": [
        {
          "output_type": "execute_result",
          "data": {
            "text/plain": [
              "{'Course_1': '10k', 'Course_2': '20k', 'Course_3': '30k', 'Course_4': '40k'}"
            ]
          },
          "metadata": {},
          "execution_count": 28
        }
      ]
    },
    {
      "cell_type": "code",
      "source": [
        "dict2={}\n",
        "dict2['another dict']=[ {'Course_1': '1k', 'Course_2': '2300k', 'Course_3': '3120k'}]\n",
        "dict2"
      ],
      "metadata": {
        "colab": {
          "base_uri": "https://localhost:8080/"
        },
        "id": "2clAjGGZ8_WY",
        "outputId": "c07860cd-e607-4e8c-aa99-19ab5aa7fe43"
      },
      "execution_count": null,
      "outputs": [
        {
          "output_type": "execute_result",
          "data": {
            "text/plain": [
              "{'another dict': [{'Course_1': '1k',\n",
              "   'Course_2': '2300k',\n",
              "   'Course_3': '3120k'}]}"
            ]
          },
          "metadata": {},
          "execution_count": 31
        }
      ]
    },
    {
      "cell_type": "code",
      "source": [
        "for i in dict2:\n",
        "    print(dict2[i])\n",
        "    print(i)"
      ],
      "metadata": {
        "colab": {
          "base_uri": "https://localhost:8080/"
        },
        "id": "nRnNpMLl90Bt",
        "outputId": "fc409ba1-1643-487d-ca27-741bc28a0ab1"
      },
      "execution_count": null,
      "outputs": [
        {
          "output_type": "stream",
          "name": "stdout",
          "text": [
            "[{'Course_1': '1k', 'Course_2': '2300k', 'Course_3': '3120k'}]\n",
            "another dict\n"
          ]
        }
      ]
    },
    {
      "cell_type": "code",
      "source": [
        "# while loop?\n",
        "x=0\n",
        "while x<10:\n",
        "    x += 1\n",
        "    print(x)"
      ],
      "metadata": {
        "colab": {
          "base_uri": "https://localhost:8080/"
        },
        "id": "oo7uqF-R-yX_",
        "outputId": "8bd2a50c-295b-4f03-b408-dc3a93b0a880"
      },
      "execution_count": null,
      "outputs": [
        {
          "output_type": "stream",
          "name": "stdout",
          "text": [
            "1\n",
            "2\n",
            "3\n",
            "4\n",
            "5\n",
            "6\n",
            "7\n",
            "8\n",
            "9\n",
            "10\n"
          ]
        }
      ]
    },
    {
      "cell_type": "code",
      "source": [
        "list=[1,3,5,7,9,11,1,3,]\n",
        "list3=[2,4,6,8,10,12]\n",
        "for i in list:\n",
        "    for k in list3:\n",
        "        print(i,k)\n"
      ],
      "metadata": {
        "colab": {
          "base_uri": "https://localhost:8080/"
        },
        "id": "1k6emrn6ARKY",
        "outputId": "fa41e646-2658-415a-c15b-833e4410796b"
      },
      "execution_count": null,
      "outputs": [
        {
          "output_type": "stream",
          "name": "stdout",
          "text": [
            "1 2\n",
            "1 4\n",
            "1 6\n",
            "1 8\n",
            "1 10\n",
            "1 12\n",
            "3 2\n",
            "3 4\n",
            "3 6\n",
            "3 8\n",
            "3 10\n",
            "3 12\n",
            "5 2\n",
            "5 4\n",
            "5 6\n",
            "5 8\n",
            "5 10\n",
            "5 12\n",
            "7 2\n",
            "7 4\n",
            "7 6\n",
            "7 8\n",
            "7 10\n",
            "7 12\n",
            "9 2\n",
            "9 4\n",
            "9 6\n",
            "9 8\n",
            "9 10\n",
            "9 12\n",
            "11 2\n",
            "11 4\n",
            "11 6\n",
            "11 8\n",
            "11 10\n",
            "11 12\n",
            "1 2\n",
            "1 4\n",
            "1 6\n",
            "1 8\n",
            "1 10\n",
            "1 12\n",
            "3 2\n",
            "3 4\n",
            "3 6\n",
            "3 8\n",
            "3 10\n",
            "3 12\n"
          ]
        }
      ]
    },
    {
      "cell_type": "code",
      "source": [
        "# python libraries how to call libraries\n",
        "import math\n",
        "math.sqrt(122)"
      ],
      "metadata": {
        "colab": {
          "base_uri": "https://localhost:8080/"
        },
        "id": "ytVUiaPjCpue",
        "outputId": "b5a14839-f6b9-4dd8-9128-bde7a06b4aed"
      },
      "execution_count": null,
      "outputs": [
        {
          "output_type": "execute_result",
          "data": {
            "text/plain": [
              "11.045361017187261"
            ]
          },
          "metadata": {},
          "execution_count": 45
        }
      ]
    },
    {
      "cell_type": "code",
      "source": [
        "# importing numpy\n",
        "import numpy as np\n",
        "np.array([1,23,34,435,4,4,3,43,3,45656,57,7876,65,4,343324,34])"
      ],
      "metadata": {
        "colab": {
          "base_uri": "https://localhost:8080/"
        },
        "id": "hWpigTnJEdWZ",
        "outputId": "906e32cf-2ba1-4f51-ebb2-dc2a7877f270"
      },
      "execution_count": null,
      "outputs": [
        {
          "output_type": "execute_result",
          "data": {
            "text/plain": [
              "array([     1,     23,     34,    435,      4,      4,      3,     43,\n",
              "            3,  45656,     57,   7876,     65,      4, 343324,     34])"
            ]
          },
          "metadata": {},
          "execution_count": 46
        }
      ]
    },
    {
      "cell_type": "code",
      "source": [
        "from math import sqrt\n",
        "sqrt(100)"
      ],
      "metadata": {
        "colab": {
          "base_uri": "https://localhost:8080/"
        },
        "id": "ivxATjRiH_bl",
        "outputId": "b320003d-a93d-489e-830c-ea27e2d3ae78"
      },
      "execution_count": null,
      "outputs": [
        {
          "output_type": "execute_result",
          "data": {
            "text/plain": [
              "10.0"
            ]
          },
          "metadata": {},
          "execution_count": 47
        }
      ]
    },
    {
      "cell_type": "code",
      "source": [
        "from math import sqrt as sq\n",
        "sq(1000)"
      ],
      "metadata": {
        "colab": {
          "base_uri": "https://localhost:8080/"
        },
        "id": "V1V6wD_GIVFy",
        "outputId": "a647a44e-2b18-4653-a21b-4ee4d6ac4dc6"
      },
      "execution_count": null,
      "outputs": [
        {
          "output_type": "execute_result",
          "data": {
            "text/plain": [
              "31.622776601683793"
            ]
          },
          "metadata": {},
          "execution_count": 48
        }
      ]
    },
    {
      "cell_type": "code",
      "source": [],
      "metadata": {
        "id": "eIChnqt0Ikpe"
      },
      "execution_count": null,
      "outputs": []
    },
    {
      "cell_type": "markdown",
      "source": [
        "#classes\n"
      ],
      "metadata": {
        "id": "KGJZhtcYMhSQ"
      }
    },
    {
      "cell_type": "code",
      "source": [
        "import torch\n"
      ],
      "metadata": {
        "id": "-OvtHYD9MxLt"
      },
      "execution_count": null,
      "outputs": []
    },
    {
      "cell_type": "code",
      "source": [
        "class car():\n",
        "    def __init__(self,model,color,engine):\n",
        "        self.model=model\n",
        "        self.color=color\n",
        "        self.engine=engine\n",
        "    def getcarname(self):\n",
        "        print(f\"The name of the car is {self.model}\")\n",
        "car1=car('Honda',2024,'starlite')\n",
        "car1.getcarname()"
      ],
      "metadata": {
        "colab": {
          "base_uri": "https://localhost:8080/"
        },
        "id": "TAqVUN_NM7Oy",
        "outputId": "d3162338-e189-4c24-bf2f-25865f247339"
      },
      "execution_count": null,
      "outputs": [
        {
          "output_type": "stream",
          "name": "stdout",
          "text": [
            "The name of the car is Honda\n"
          ]
        }
      ]
    },
    {
      "cell_type": "code",
      "source": [
        "car1\n",
        "car1.getcarname()"
      ],
      "metadata": {
        "colab": {
          "base_uri": "https://localhost:8080/"
        },
        "id": "jwiq_FLKN2Ly",
        "outputId": "a4235570-e90b-48ae-de2f-0158adee3c78"
      },
      "execution_count": null,
      "outputs": [
        {
          "output_type": "stream",
          "name": "stdout",
          "text": [
            "The name of the cake is Honda\n"
          ]
        }
      ]
    },
    {
      "cell_type": "code",
      "source": [
        "import numpy as np\n",
        "x = np.arange(20)\n",
        "x\n",
        "type(x)\n",
        "x.size\n",
        "x.shape"
      ],
      "metadata": {
        "colab": {
          "base_uri": "https://localhost:8080/"
        },
        "id": "zyt0u39iPkTR",
        "outputId": "40c03158-5890-4e42-bec6-b968631a07f2"
      },
      "execution_count": null,
      "outputs": [
        {
          "output_type": "execute_result",
          "data": {
            "text/plain": [
              "(20,)"
            ]
          },
          "metadata": {},
          "execution_count": 67
        }
      ]
    },
    {
      "cell_type": "code",
      "source": [
        "x1 = x.reshape(4,5)"
      ],
      "metadata": {
        "id": "YsVMkOILh7db"
      },
      "execution_count": null,
      "outputs": []
    },
    {
      "cell_type": "code",
      "source": [
        "x1"
      ],
      "metadata": {
        "colab": {
          "base_uri": "https://localhost:8080/"
        },
        "id": "0WQOVRaBidUp",
        "outputId": "48cf1a1c-f513-4be3-ed73-9cc1f3d61c26"
      },
      "execution_count": null,
      "outputs": [
        {
          "output_type": "execute_result",
          "data": {
            "text/plain": [
              "array([[ 0,  1,  2,  3,  4],\n",
              "       [ 5,  6,  7,  8,  9],\n",
              "       [10, 11, 12, 13, 14],\n",
              "       [15, 16, 17, 18, 19]])"
            ]
          },
          "metadata": {},
          "execution_count": 69
        }
      ]
    },
    {
      "cell_type": "code",
      "source": [
        "x3= x.reshape(2,2,5)\n",
        "x3\n"
      ],
      "metadata": {
        "colab": {
          "base_uri": "https://localhost:8080/",
          "height": 159
        },
        "id": "87tfiNa6irFz",
        "outputId": "41d5ecaa-9ddb-4ce7-d799-057a9c26570a"
      },
      "execution_count": null,
      "outputs": [
        {
          "output_type": "error",
          "ename": "NameError",
          "evalue": "name 'x' is not defined",
          "traceback": [
            "\u001b[0;31m---------------------------------------------------------------------------\u001b[0m",
            "\u001b[0;31mNameError\u001b[0m                                 Traceback (most recent call last)",
            "\u001b[0;32m<ipython-input-91-a42c7f3c148d>\u001b[0m in \u001b[0;36m<cell line: 1>\u001b[0;34m()\u001b[0m\n\u001b[0;32m----> 1\u001b[0;31m \u001b[0mx3\u001b[0m\u001b[0;34m=\u001b[0m \u001b[0mx\u001b[0m\u001b[0;34m.\u001b[0m\u001b[0mreshape\u001b[0m\u001b[0;34m(\u001b[0m\u001b[0;36m2\u001b[0m\u001b[0;34m,\u001b[0m\u001b[0;36m2\u001b[0m\u001b[0;34m,\u001b[0m\u001b[0;36m5\u001b[0m\u001b[0;34m)\u001b[0m\u001b[0;34m\u001b[0m\u001b[0;34m\u001b[0m\u001b[0m\n\u001b[0m\u001b[1;32m      2\u001b[0m \u001b[0mx3\u001b[0m\u001b[0;34m\u001b[0m\u001b[0;34m\u001b[0m\u001b[0m\n",
            "\u001b[0;31mNameError\u001b[0m: name 'x' is not defined"
          ]
        }
      ]
    },
    {
      "cell_type": "code",
      "source": [
        "x3= np.arange(20)\n",
        "x3"
      ],
      "metadata": {
        "colab": {
          "base_uri": "https://localhost:8080/"
        },
        "id": "m3yhLll1ITcp",
        "outputId": "6fa94b88-4e13-4855-c4c6-3563f34c63ae"
      },
      "execution_count": null,
      "outputs": [
        {
          "output_type": "execute_result",
          "data": {
            "text/plain": [
              "array([ 0,  1,  2,  3,  4,  5,  6,  7,  8,  9, 10, 11, 12, 13, 14, 15, 16,\n",
              "       17, 18, 19])"
            ]
          },
          "metadata": {},
          "execution_count": 93
        }
      ]
    },
    {
      "cell_type": "code",
      "source": [
        "import numpy as np\n",
        "x = np.arange(20)\n",
        "x\n",
        "type(x)\n",
        "x.size\n",
        "import numpy as np\n",
        "x = np.arange(20)\n",
        "x\n",
        "type(x)\n",
        "x.size\n",
        "x.shape\n",
        "zee = 60\n",
        "zee = np.arange(60)\n",
        "zee.reshape(3,4,5)"
      ],
      "metadata": {
        "colab": {
          "base_uri": "https://localhost:8080/"
        },
        "id": "Tr7kF801jo7b",
        "outputId": "b9c525f9-9ca5-4bea-c860-687c4dbcf46d"
      },
      "execution_count": null,
      "outputs": [
        {
          "output_type": "execute_result",
          "data": {
            "text/plain": [
              "array([[[ 0,  1,  2,  3,  4],\n",
              "        [ 5,  6,  7,  8,  9],\n",
              "        [10, 11, 12, 13, 14],\n",
              "        [15, 16, 17, 18, 19]],\n",
              "\n",
              "       [[20, 21, 22, 23, 24],\n",
              "        [25, 26, 27, 28, 29],\n",
              "        [30, 31, 32, 33, 34],\n",
              "        [35, 36, 37, 38, 39]],\n",
              "\n",
              "       [[40, 41, 42, 43, 44],\n",
              "        [45, 46, 47, 48, 49],\n",
              "        [50, 51, 52, 53, 54],\n",
              "        [55, 56, 57, 58, 59]]])"
            ]
          },
          "metadata": {},
          "execution_count": 86
        }
      ]
    },
    {
      "cell_type": "code",
      "source": [
        "import numpy as np\n",
        "abc= np.arange(25)\n",
        "abc"
      ],
      "metadata": {
        "id": "yCGR_IOSkcAz",
        "colab": {
          "base_uri": "https://localhost:8080/"
        },
        "outputId": "80a5e76a-1c51-4079-aeec-a6da9bab244f"
      },
      "execution_count": null,
      "outputs": [
        {
          "output_type": "execute_result",
          "data": {
            "text/plain": [
              "array([ 0,  1,  2,  3,  4,  5,  6,  7,  8,  9, 10, 11, 12, 13, 14, 15, 16,\n",
              "       17, 18, 19, 20, 21, 22, 23, 24])"
            ]
          },
          "metadata": {},
          "execution_count": 7
        }
      ]
    },
    {
      "cell_type": "code",
      "source": [
        "abc.shape"
      ],
      "metadata": {
        "colab": {
          "base_uri": "https://localhost:8080/"
        },
        "id": "S2FAlnz9uKUy",
        "outputId": "3b429638-802e-4f6c-bf56-186b61233910"
      },
      "execution_count": null,
      "outputs": [
        {
          "output_type": "execute_result",
          "data": {
            "text/plain": [
              "(25,)"
            ]
          },
          "metadata": {},
          "execution_count": 8
        }
      ]
    },
    {
      "cell_type": "code",
      "source": [
        "abc.reshape(5,5)"
      ],
      "metadata": {
        "colab": {
          "base_uri": "https://localhost:8080/"
        },
        "id": "JZMfs9XSu4Qj",
        "outputId": "a7e31bef-3c1e-409b-bda0-482598187707"
      },
      "execution_count": null,
      "outputs": [
        {
          "output_type": "execute_result",
          "data": {
            "text/plain": [
              "array([[ 0,  1,  2,  3,  4],\n",
              "       [ 5,  6,  7,  8,  9],\n",
              "       [10, 11, 12, 13, 14],\n",
              "       [15, 16, 17, 18, 19],\n",
              "       [20, 21, 22, 23, 24]])"
            ]
          },
          "metadata": {},
          "execution_count": 9
        }
      ]
    },
    {
      "cell_type": "code",
      "source": [
        "abs(2)"
      ],
      "metadata": {
        "colab": {
          "base_uri": "https://localhost:8080/"
        },
        "id": "-q1Tmlzju8VZ",
        "outputId": "32e63a22-a1e3-4959-e532-7e8e92d3f317"
      },
      "execution_count": null,
      "outputs": [
        {
          "output_type": "execute_result",
          "data": {
            "text/plain": [
              "2"
            ]
          },
          "metadata": {},
          "execution_count": 17
        }
      ]
    },
    {
      "cell_type": "code",
      "source": [
        "abc[1:,::3]=-34\n",
        "abc"
      ],
      "metadata": {
        "colab": {
          "base_uri": "https://localhost:8080/"
        },
        "id": "uTBtdeDSvOlV",
        "outputId": "d657ca53-20df-473d-d83d-fb6fa9c3ea0f"
      },
      "execution_count": null,
      "outputs": [
        {
          "output_type": "execute_result",
          "data": {
            "text/plain": [
              "array([[  0,   1,   2,   3,   4],\n",
              "       [-34,   6,   7, -34,   9],\n",
              "       [-34,  11,  12, -34,  14],\n",
              "       [-34,  16,  17, -34, -34],\n",
              "       [-34,  21,  22, -34, -34]])"
            ]
          },
          "metadata": {},
          "execution_count": 89
        }
      ]
    },
    {
      "source": [
        "import numpy as np\n",
        "abc = np.arange(25)\n",
        "abc = abc.reshape(5, 5)  # Reshape to a 2D array (5x5)\n",
        "abc[-2:, ::4] = -34\n",
        "print(abc)"
      ],
      "cell_type": "code",
      "metadata": {
        "colab": {
          "base_uri": "https://localhost:8080/"
        },
        "id": "Xp1Mrn9mwSlW",
        "outputId": "773eb355-fa46-4467-f84a-4071ce62cd94"
      },
      "execution_count": null,
      "outputs": [
        {
          "output_type": "stream",
          "name": "stdout",
          "text": [
            "[[  0   1   2   3   4]\n",
            " [  5   6   7   8   9]\n",
            " [ 10  11  12  13  14]\n",
            " [-34  16  17  18 -34]\n",
            " [-34  21  22  23 -34]]\n"
          ]
        }
      ]
    },
    {
      "cell_type": "code",
      "source": [
        "abc.max()"
      ],
      "metadata": {
        "colab": {
          "base_uri": "https://localhost:8080/"
        },
        "id": "XYM1ghj8wEcf",
        "outputId": "e22afe24-65a0-47f4-fa71-94347f3cd1b6"
      },
      "execution_count": null,
      "outputs": [
        {
          "output_type": "execute_result",
          "data": {
            "text/plain": [
              "23"
            ]
          },
          "metadata": {},
          "execution_count": 26
        }
      ]
    },
    {
      "cell_type": "code",
      "source": [
        "abc.min()"
      ],
      "metadata": {
        "colab": {
          "base_uri": "https://localhost:8080/"
        },
        "id": "Vdxy6Dn8w-Zx",
        "outputId": "c497d423-f9e2-43d4-d368-f2d5b674804a"
      },
      "execution_count": null,
      "outputs": [
        {
          "output_type": "execute_result",
          "data": {
            "text/plain": [
              "-34"
            ]
          },
          "metadata": {},
          "execution_count": 27
        }
      ]
    },
    {
      "cell_type": "code",
      "source": [
        "abc.max(axis=0)"
      ],
      "metadata": {
        "colab": {
          "base_uri": "https://localhost:8080/"
        },
        "id": "BKyrL3p0xDxl",
        "outputId": "5ffdbcf8-d280-4198-b0c7-97ab3a0e1410"
      },
      "execution_count": null,
      "outputs": [
        {
          "output_type": "execute_result",
          "data": {
            "text/plain": [
              "array([10, 21, 22, 23, 14])"
            ]
          },
          "metadata": {},
          "execution_count": 33
        }
      ]
    },
    {
      "cell_type": "code",
      "source": [
        "abc.max(axis=1)"
      ],
      "metadata": {
        "colab": {
          "base_uri": "https://localhost:8080/"
        },
        "id": "h1STTPGRxWqE",
        "outputId": "fafde85a-820e-44c4-81a4-71ba06ffdc43"
      },
      "execution_count": null,
      "outputs": [
        {
          "output_type": "execute_result",
          "data": {
            "text/plain": [
              "array([ 4,  9, 14, 18, 23])"
            ]
          },
          "metadata": {},
          "execution_count": 34
        }
      ]
    },
    {
      "cell_type": "code",
      "source": [
        "# prompt: create a dataframe with 2 columns and 10 rows\n",
        "\n",
        "import pandas as pd\n",
        "\n",
        "# Create a DataFrame with 2 columns and 10 rows\n",
        "data = {'Column1': range(10), 'Column2': range(10, 20)}\n",
        "df = pd.DataFrame(data)\n",
        "\n",
        "# Print the DataFrame\n",
        "df"
      ],
      "metadata": {
        "colab": {
          "base_uri": "https://localhost:8080/",
          "height": 363
        },
        "id": "81ylphUJycqM",
        "outputId": "fa971a19-60aa-45cd-e256-ece69debb997"
      },
      "execution_count": null,
      "outputs": [
        {
          "output_type": "execute_result",
          "data": {
            "text/plain": [
              "   Column1  Column2\n",
              "0        0       10\n",
              "1        1       11\n",
              "2        2       12\n",
              "3        3       13\n",
              "4        4       14\n",
              "5        5       15\n",
              "6        6       16\n",
              "7        7       17\n",
              "8        8       18\n",
              "9        9       19"
            ],
            "text/html": [
              "\n",
              "  <div id=\"df-cc0b2fb3-78ca-4eaf-9043-29e8e3a0b758\" class=\"colab-df-container\">\n",
              "    <div>\n",
              "<style scoped>\n",
              "    .dataframe tbody tr th:only-of-type {\n",
              "        vertical-align: middle;\n",
              "    }\n",
              "\n",
              "    .dataframe tbody tr th {\n",
              "        vertical-align: top;\n",
              "    }\n",
              "\n",
              "    .dataframe thead th {\n",
              "        text-align: right;\n",
              "    }\n",
              "</style>\n",
              "<table border=\"1\" class=\"dataframe\">\n",
              "  <thead>\n",
              "    <tr style=\"text-align: right;\">\n",
              "      <th></th>\n",
              "      <th>Column1</th>\n",
              "      <th>Column2</th>\n",
              "    </tr>\n",
              "  </thead>\n",
              "  <tbody>\n",
              "    <tr>\n",
              "      <th>0</th>\n",
              "      <td>0</td>\n",
              "      <td>10</td>\n",
              "    </tr>\n",
              "    <tr>\n",
              "      <th>1</th>\n",
              "      <td>1</td>\n",
              "      <td>11</td>\n",
              "    </tr>\n",
              "    <tr>\n",
              "      <th>2</th>\n",
              "      <td>2</td>\n",
              "      <td>12</td>\n",
              "    </tr>\n",
              "    <tr>\n",
              "      <th>3</th>\n",
              "      <td>3</td>\n",
              "      <td>13</td>\n",
              "    </tr>\n",
              "    <tr>\n",
              "      <th>4</th>\n",
              "      <td>4</td>\n",
              "      <td>14</td>\n",
              "    </tr>\n",
              "    <tr>\n",
              "      <th>5</th>\n",
              "      <td>5</td>\n",
              "      <td>15</td>\n",
              "    </tr>\n",
              "    <tr>\n",
              "      <th>6</th>\n",
              "      <td>6</td>\n",
              "      <td>16</td>\n",
              "    </tr>\n",
              "    <tr>\n",
              "      <th>7</th>\n",
              "      <td>7</td>\n",
              "      <td>17</td>\n",
              "    </tr>\n",
              "    <tr>\n",
              "      <th>8</th>\n",
              "      <td>8</td>\n",
              "      <td>18</td>\n",
              "    </tr>\n",
              "    <tr>\n",
              "      <th>9</th>\n",
              "      <td>9</td>\n",
              "      <td>19</td>\n",
              "    </tr>\n",
              "  </tbody>\n",
              "</table>\n",
              "</div>\n",
              "    <div class=\"colab-df-buttons\">\n",
              "\n",
              "  <div class=\"colab-df-container\">\n",
              "    <button class=\"colab-df-convert\" onclick=\"convertToInteractive('df-cc0b2fb3-78ca-4eaf-9043-29e8e3a0b758')\"\n",
              "            title=\"Convert this dataframe to an interactive table.\"\n",
              "            style=\"display:none;\">\n",
              "\n",
              "  <svg xmlns=\"http://www.w3.org/2000/svg\" height=\"24px\" viewBox=\"0 -960 960 960\">\n",
              "    <path d=\"M120-120v-720h720v720H120Zm60-500h600v-160H180v160Zm220 220h160v-160H400v160Zm0 220h160v-160H400v160ZM180-400h160v-160H180v160Zm440 0h160v-160H620v160ZM180-180h160v-160H180v160Zm440 0h160v-160H620v160Z\"/>\n",
              "  </svg>\n",
              "    </button>\n",
              "\n",
              "  <style>\n",
              "    .colab-df-container {\n",
              "      display:flex;\n",
              "      gap: 12px;\n",
              "    }\n",
              "\n",
              "    .colab-df-convert {\n",
              "      background-color: #E8F0FE;\n",
              "      border: none;\n",
              "      border-radius: 50%;\n",
              "      cursor: pointer;\n",
              "      display: none;\n",
              "      fill: #1967D2;\n",
              "      height: 32px;\n",
              "      padding: 0 0 0 0;\n",
              "      width: 32px;\n",
              "    }\n",
              "\n",
              "    .colab-df-convert:hover {\n",
              "      background-color: #E2EBFA;\n",
              "      box-shadow: 0px 1px 2px rgba(60, 64, 67, 0.3), 0px 1px 3px 1px rgba(60, 64, 67, 0.15);\n",
              "      fill: #174EA6;\n",
              "    }\n",
              "\n",
              "    .colab-df-buttons div {\n",
              "      margin-bottom: 4px;\n",
              "    }\n",
              "\n",
              "    [theme=dark] .colab-df-convert {\n",
              "      background-color: #3B4455;\n",
              "      fill: #D2E3FC;\n",
              "    }\n",
              "\n",
              "    [theme=dark] .colab-df-convert:hover {\n",
              "      background-color: #434B5C;\n",
              "      box-shadow: 0px 1px 3px 1px rgba(0, 0, 0, 0.15);\n",
              "      filter: drop-shadow(0px 1px 2px rgba(0, 0, 0, 0.3));\n",
              "      fill: #FFFFFF;\n",
              "    }\n",
              "  </style>\n",
              "\n",
              "    <script>\n",
              "      const buttonEl =\n",
              "        document.querySelector('#df-cc0b2fb3-78ca-4eaf-9043-29e8e3a0b758 button.colab-df-convert');\n",
              "      buttonEl.style.display =\n",
              "        google.colab.kernel.accessAllowed ? 'block' : 'none';\n",
              "\n",
              "      async function convertToInteractive(key) {\n",
              "        const element = document.querySelector('#df-cc0b2fb3-78ca-4eaf-9043-29e8e3a0b758');\n",
              "        const dataTable =\n",
              "          await google.colab.kernel.invokeFunction('convertToInteractive',\n",
              "                                                    [key], {});\n",
              "        if (!dataTable) return;\n",
              "\n",
              "        const docLinkHtml = 'Like what you see? Visit the ' +\n",
              "          '<a target=\"_blank\" href=https://colab.research.google.com/notebooks/data_table.ipynb>data table notebook</a>'\n",
              "          + ' to learn more about interactive tables.';\n",
              "        element.innerHTML = '';\n",
              "        dataTable['output_type'] = 'display_data';\n",
              "        await google.colab.output.renderOutput(dataTable, element);\n",
              "        const docLink = document.createElement('div');\n",
              "        docLink.innerHTML = docLinkHtml;\n",
              "        element.appendChild(docLink);\n",
              "      }\n",
              "    </script>\n",
              "  </div>\n",
              "\n",
              "\n",
              "<div id=\"df-e50b99ff-5bae-4418-bb35-d0a8aeb1e290\">\n",
              "  <button class=\"colab-df-quickchart\" onclick=\"quickchart('df-e50b99ff-5bae-4418-bb35-d0a8aeb1e290')\"\n",
              "            title=\"Suggest charts\"\n",
              "            style=\"display:none;\">\n",
              "\n",
              "<svg xmlns=\"http://www.w3.org/2000/svg\" height=\"24px\"viewBox=\"0 0 24 24\"\n",
              "     width=\"24px\">\n",
              "    <g>\n",
              "        <path d=\"M19 3H5c-1.1 0-2 .9-2 2v14c0 1.1.9 2 2 2h14c1.1 0 2-.9 2-2V5c0-1.1-.9-2-2-2zM9 17H7v-7h2v7zm4 0h-2V7h2v10zm4 0h-2v-4h2v4z\"/>\n",
              "    </g>\n",
              "</svg>\n",
              "  </button>\n",
              "\n",
              "<style>\n",
              "  .colab-df-quickchart {\n",
              "      --bg-color: #E8F0FE;\n",
              "      --fill-color: #1967D2;\n",
              "      --hover-bg-color: #E2EBFA;\n",
              "      --hover-fill-color: #174EA6;\n",
              "      --disabled-fill-color: #AAA;\n",
              "      --disabled-bg-color: #DDD;\n",
              "  }\n",
              "\n",
              "  [theme=dark] .colab-df-quickchart {\n",
              "      --bg-color: #3B4455;\n",
              "      --fill-color: #D2E3FC;\n",
              "      --hover-bg-color: #434B5C;\n",
              "      --hover-fill-color: #FFFFFF;\n",
              "      --disabled-bg-color: #3B4455;\n",
              "      --disabled-fill-color: #666;\n",
              "  }\n",
              "\n",
              "  .colab-df-quickchart {\n",
              "    background-color: var(--bg-color);\n",
              "    border: none;\n",
              "    border-radius: 50%;\n",
              "    cursor: pointer;\n",
              "    display: none;\n",
              "    fill: var(--fill-color);\n",
              "    height: 32px;\n",
              "    padding: 0;\n",
              "    width: 32px;\n",
              "  }\n",
              "\n",
              "  .colab-df-quickchart:hover {\n",
              "    background-color: var(--hover-bg-color);\n",
              "    box-shadow: 0 1px 2px rgba(60, 64, 67, 0.3), 0 1px 3px 1px rgba(60, 64, 67, 0.15);\n",
              "    fill: var(--button-hover-fill-color);\n",
              "  }\n",
              "\n",
              "  .colab-df-quickchart-complete:disabled,\n",
              "  .colab-df-quickchart-complete:disabled:hover {\n",
              "    background-color: var(--disabled-bg-color);\n",
              "    fill: var(--disabled-fill-color);\n",
              "    box-shadow: none;\n",
              "  }\n",
              "\n",
              "  .colab-df-spinner {\n",
              "    border: 2px solid var(--fill-color);\n",
              "    border-color: transparent;\n",
              "    border-bottom-color: var(--fill-color);\n",
              "    animation:\n",
              "      spin 1s steps(1) infinite;\n",
              "  }\n",
              "\n",
              "  @keyframes spin {\n",
              "    0% {\n",
              "      border-color: transparent;\n",
              "      border-bottom-color: var(--fill-color);\n",
              "      border-left-color: var(--fill-color);\n",
              "    }\n",
              "    20% {\n",
              "      border-color: transparent;\n",
              "      border-left-color: var(--fill-color);\n",
              "      border-top-color: var(--fill-color);\n",
              "    }\n",
              "    30% {\n",
              "      border-color: transparent;\n",
              "      border-left-color: var(--fill-color);\n",
              "      border-top-color: var(--fill-color);\n",
              "      border-right-color: var(--fill-color);\n",
              "    }\n",
              "    40% {\n",
              "      border-color: transparent;\n",
              "      border-right-color: var(--fill-color);\n",
              "      border-top-color: var(--fill-color);\n",
              "    }\n",
              "    60% {\n",
              "      border-color: transparent;\n",
              "      border-right-color: var(--fill-color);\n",
              "    }\n",
              "    80% {\n",
              "      border-color: transparent;\n",
              "      border-right-color: var(--fill-color);\n",
              "      border-bottom-color: var(--fill-color);\n",
              "    }\n",
              "    90% {\n",
              "      border-color: transparent;\n",
              "      border-bottom-color: var(--fill-color);\n",
              "    }\n",
              "  }\n",
              "</style>\n",
              "\n",
              "  <script>\n",
              "    async function quickchart(key) {\n",
              "      const quickchartButtonEl =\n",
              "        document.querySelector('#' + key + ' button');\n",
              "      quickchartButtonEl.disabled = true;  // To prevent multiple clicks.\n",
              "      quickchartButtonEl.classList.add('colab-df-spinner');\n",
              "      try {\n",
              "        const charts = await google.colab.kernel.invokeFunction(\n",
              "            'suggestCharts', [key], {});\n",
              "      } catch (error) {\n",
              "        console.error('Error during call to suggestCharts:', error);\n",
              "      }\n",
              "      quickchartButtonEl.classList.remove('colab-df-spinner');\n",
              "      quickchartButtonEl.classList.add('colab-df-quickchart-complete');\n",
              "    }\n",
              "    (() => {\n",
              "      let quickchartButtonEl =\n",
              "        document.querySelector('#df-e50b99ff-5bae-4418-bb35-d0a8aeb1e290 button');\n",
              "      quickchartButtonEl.style.display =\n",
              "        google.colab.kernel.accessAllowed ? 'block' : 'none';\n",
              "    })();\n",
              "  </script>\n",
              "</div>\n",
              "\n",
              "  <div id=\"id_af5290b2-04e9-4bc7-aa1e-9771e38b7640\">\n",
              "    <style>\n",
              "      .colab-df-generate {\n",
              "        background-color: #E8F0FE;\n",
              "        border: none;\n",
              "        border-radius: 50%;\n",
              "        cursor: pointer;\n",
              "        display: none;\n",
              "        fill: #1967D2;\n",
              "        height: 32px;\n",
              "        padding: 0 0 0 0;\n",
              "        width: 32px;\n",
              "      }\n",
              "\n",
              "      .colab-df-generate:hover {\n",
              "        background-color: #E2EBFA;\n",
              "        box-shadow: 0px 1px 2px rgba(60, 64, 67, 0.3), 0px 1px 3px 1px rgba(60, 64, 67, 0.15);\n",
              "        fill: #174EA6;\n",
              "      }\n",
              "\n",
              "      [theme=dark] .colab-df-generate {\n",
              "        background-color: #3B4455;\n",
              "        fill: #D2E3FC;\n",
              "      }\n",
              "\n",
              "      [theme=dark] .colab-df-generate:hover {\n",
              "        background-color: #434B5C;\n",
              "        box-shadow: 0px 1px 3px 1px rgba(0, 0, 0, 0.15);\n",
              "        filter: drop-shadow(0px 1px 2px rgba(0, 0, 0, 0.3));\n",
              "        fill: #FFFFFF;\n",
              "      }\n",
              "    </style>\n",
              "    <button class=\"colab-df-generate\" onclick=\"generateWithVariable('df')\"\n",
              "            title=\"Generate code using this dataframe.\"\n",
              "            style=\"display:none;\">\n",
              "\n",
              "  <svg xmlns=\"http://www.w3.org/2000/svg\" height=\"24px\"viewBox=\"0 0 24 24\"\n",
              "       width=\"24px\">\n",
              "    <path d=\"M7,19H8.4L18.45,9,17,7.55,7,17.6ZM5,21V16.75L18.45,3.32a2,2,0,0,1,2.83,0l1.4,1.43a1.91,1.91,0,0,1,.58,1.4,1.91,1.91,0,0,1-.58,1.4L9.25,21ZM18.45,9,17,7.55Zm-12,3A5.31,5.31,0,0,0,4.9,8.1,5.31,5.31,0,0,0,1,6.5,5.31,5.31,0,0,0,4.9,4.9,5.31,5.31,0,0,0,6.5,1,5.31,5.31,0,0,0,8.1,4.9,5.31,5.31,0,0,0,12,6.5,5.46,5.46,0,0,0,6.5,12Z\"/>\n",
              "  </svg>\n",
              "    </button>\n",
              "    <script>\n",
              "      (() => {\n",
              "      const buttonEl =\n",
              "        document.querySelector('#id_af5290b2-04e9-4bc7-aa1e-9771e38b7640 button.colab-df-generate');\n",
              "      buttonEl.style.display =\n",
              "        google.colab.kernel.accessAllowed ? 'block' : 'none';\n",
              "\n",
              "      buttonEl.onclick = () => {\n",
              "        google.colab.notebook.generateWithVariable('df');\n",
              "      }\n",
              "      })();\n",
              "    </script>\n",
              "  </div>\n",
              "\n",
              "    </div>\n",
              "  </div>\n"
            ],
            "application/vnd.google.colaboratory.intrinsic+json": {
              "type": "dataframe",
              "variable_name": "df",
              "summary": "{\n  \"name\": \"df\",\n  \"rows\": 10,\n  \"fields\": [\n    {\n      \"column\": \"Column1\",\n      \"properties\": {\n        \"dtype\": \"number\",\n        \"std\": 3,\n        \"min\": 0,\n        \"max\": 9,\n        \"num_unique_values\": 10,\n        \"samples\": [\n          8,\n          1,\n          5\n        ],\n        \"semantic_type\": \"\",\n        \"description\": \"\"\n      }\n    },\n    {\n      \"column\": \"Column2\",\n      \"properties\": {\n        \"dtype\": \"number\",\n        \"std\": 3,\n        \"min\": 10,\n        \"max\": 19,\n        \"num_unique_values\": 10,\n        \"samples\": [\n          18,\n          11,\n          15\n        ],\n        \"semantic_type\": \"\",\n        \"description\": \"\"\n      }\n    }\n  ]\n}"
            }
          },
          "metadata": {},
          "execution_count": 36
        }
      ]
    },
    {
      "source": [
        "# @title Column2\n",
        "\n",
        "from matplotlib import pyplot as plt\n",
        "df['Column2'].plot(kind='hist', bins=20, title='Column2')\n",
        "plt.gca().spines[['top', 'right',]].set_visible(False)"
      ],
      "cell_type": "code",
      "execution_count": null,
      "outputs": [
        {
          "output_type": "display_data",
          "data": {
            "text/plain": [
              "<Figure size 640x480 with 1 Axes>"
            ],
            "image/png": "[encoded data removed]"
          },
          "metadata": {}
        }
      ],
      "metadata": {
        "colab": {
          "base_uri": "https://localhost:8080/",
          "height": 452
        },
        "id": "q8TYE9XvzCHE",
        "outputId": "5dedaf6d-c91f-4255-cd13-4dcd527f3007"
      }
    },
    {
      "cell_type": "code",
      "source": [
        "# reshape and arange in one line\n",
        "import numpy as np\n",
        "aray=np.arange(20).reshape(5,4)\n",
        "aray=np.arange(20).reshape(4,5)\n",
        "aray"
      ],
      "metadata": {
        "colab": {
          "base_uri": "https://localhost:8080/"
        },
        "id": "hqWlzIXhyr8C",
        "outputId": "88bf7c3b-9814-4148-d179-fd2770b13098"
      },
      "execution_count": null,
      "outputs": [
        {
          "output_type": "execute_result",
          "data": {
            "text/plain": [
              "array([[ 0,  1,  2,  3,  4],\n",
              "       [ 5,  6,  7,  8,  9],\n",
              "       [10, 11, 12, 13, 14],\n",
              "       [15, 16, 17, 18, 19]])"
            ]
          },
          "metadata": {},
          "execution_count": 39
        }
      ]
    },
    {
      "cell_type": "code",
      "source": [
        "# np.zoroes function\n",
        "array=np.zeros((4,4))\n",
        "array"
      ],
      "metadata": {
        "colab": {
          "base_uri": "https://localhost:8080/"
        },
        "id": "ksp4Kmer0C0j",
        "outputId": "76f6380b-5662-401c-a0bc-abf288783706"
      },
      "execution_count": null,
      "outputs": [
        {
          "output_type": "execute_result",
          "data": {
            "text/plain": [
              "array([[0., 0., 0., 0.],\n",
              "       [0., 0., 0., 0.],\n",
              "       [0., 0., 0., 0.],\n",
              "       [0., 0., 0., 0.]])"
            ]
          },
          "metadata": {},
          "execution_count": 45
        }
      ]
    },
    {
      "source": [
        "# np.zeros function\n",
        "array = np.zeros((4, 4))\n",
        "array"
      ],
      "cell_type": "code",
      "metadata": {
        "colab": {
          "base_uri": "https://localhost:8080/"
        },
        "id": "QaSVWQYi1Edc",
        "outputId": "663c08cc-e661-47d2-a711-2738392cf112"
      },
      "execution_count": null,
      "outputs": [
        {
          "output_type": "execute_result",
          "data": {
            "text/plain": [
              "array([[0., 0., 0., 0.],\n",
              "       [0., 0., 0., 0.],\n",
              "       [0., 0., 0., 0.],\n",
              "       [0., 0., 0., 0.]])"
            ]
          },
          "metadata": {},
          "execution_count": 46
        }
      ]
    },
    {
      "cell_type": "code",
      "source": [
        "# np.ones function\n",
        "array = np.ones((5,4))"
      ],
      "metadata": {
        "id": "_xC-mmSN02US"
      },
      "execution_count": null,
      "outputs": []
    },
    {
      "cell_type": "code",
      "source": [
        "array\n",
        "array.ndim"
      ],
      "metadata": {
        "colab": {
          "base_uri": "https://localhost:8080/"
        },
        "id": "qeAub3qS1nyL",
        "outputId": "5dd95597-9904-44b9-f5d4-fa3b696992af"
      },
      "execution_count": null,
      "outputs": [
        {
          "output_type": "execute_result",
          "data": {
            "text/plain": [
              "2"
            ]
          },
          "metadata": {},
          "execution_count": 62
        }
      ]
    },
    {
      "cell_type": "code",
      "source": [
        "a = np.empty([2,4,2])\n",
        "a"
      ],
      "metadata": {
        "colab": {
          "base_uri": "https://localhost:8080/"
        },
        "id": "KDJMSG731qE8",
        "outputId": "7934706b-e781-4f7d-f0d3-8c6eb97c5d5e"
      },
      "execution_count": null,
      "outputs": [
        {
          "output_type": "execute_result",
          "data": {
            "text/plain": [
              "array([[[0., 0.],\n",
              "        [0., 0.],\n",
              "        [0., 0.],\n",
              "        [0., 0.]],\n",
              "\n",
              "       [[0., 0.],\n",
              "        [0., 0.],\n",
              "        [0., 0.],\n",
              "        [0., 0.]]])"
            ]
          },
          "metadata": {},
          "execution_count": 52
        }
      ]
    },
    {
      "cell_type": "code",
      "source": [
        "np.full([3,5],3)"
      ],
      "metadata": {
        "colab": {
          "base_uri": "https://localhost:8080/"
        },
        "id": "uBlXKtOl1_AF",
        "outputId": "6ea92d87-db36-406c-c32d-33e61c2a87c4"
      },
      "execution_count": null,
      "outputs": [
        {
          "output_type": "execute_result",
          "data": {
            "text/plain": [
              "array([[3, 3, 3, 3, 3],\n",
              "       [3, 3, 3, 3, 3],\n",
              "       [3, 3, 3, 3, 3]])"
            ]
          },
          "metadata": {},
          "execution_count": 57
        }
      ]
    },
    {
      "cell_type": "code",
      "source": [
        "list=[23,45,5,6,'banana',False,23.45]\n",
        "arr =np.array(list)\n",
        "arr"
      ],
      "metadata": {
        "colab": {
          "base_uri": "https://localhost:8080/"
        },
        "id": "UqfXfyVl2sto",
        "outputId": "fa967746-5456-4975-c207-20a1e1b229bd"
      },
      "execution_count": null,
      "outputs": [
        {
          "output_type": "execute_result",
          "data": {
            "text/plain": [
              "array(['23', '45', '5', '6', 'banana', 'False', '23.45'], dtype='<U32')"
            ]
          },
          "metadata": {},
          "execution_count": 60
        }
      ]
    },
    {
      "cell_type": "code",
      "source": [
        "# this is how to make two dimentional array and multiply them self\n",
        "ar = np.arange(6,12,1).reshape(2,3)\n",
        "ar\n",
        "br = np.arange(6,12,1).reshape(2,3)\n",
        "ar\n",
        "br"
      ],
      "metadata": {
        "colab": {
          "base_uri": "https://localhost:8080/"
        },
        "id": "kX3ZHdum3QHR",
        "outputId": "0ffb7fc2-f697-4db8-e471-58e05e237c9e"
      },
      "execution_count": null,
      "outputs": [
        {
          "output_type": "execute_result",
          "data": {
            "text/plain": [
              "array([[ 6,  7,  8],\n",
              "       [ 9, 10, 11]])"
            ]
          },
          "metadata": {},
          "execution_count": 95
        }
      ]
    },
    {
      "cell_type": "code",
      "source": [
        "# how to multiply two arrays\n",
        "ar*br\n",
        "# how to substract two arrays\n",
        "ar-br"
      ],
      "metadata": {
        "colab": {
          "base_uri": "https://localhost:8080/"
        },
        "id": "ycpoEGX74vel",
        "outputId": "6b7efb36-f025-4a0e-b783-ac6acd138833"
      },
      "execution_count": null,
      "outputs": [
        {
          "output_type": "execute_result",
          "data": {
            "text/plain": [
              "array([[0, 0, 0],\n",
              "       [0, 0, 0]])"
            ]
          },
          "metadata": {},
          "execution_count": 74
        }
      ]
    },
    {
      "cell_type": "code",
      "source": [
        "# checking = ar>br\n",
        "ar<=br\n",
        "# checking = ar>br\n",
        "# checking\n",
        "ar>br"
      ],
      "metadata": {
        "colab": {
          "base_uri": "https://localhost:8080/"
        },
        "id": "oYScn19b6agx",
        "outputId": "5223f62a-dd06-473f-8694-361bb3f11055"
      },
      "execution_count": null,
      "outputs": [
        {
          "output_type": "execute_result",
          "data": {
            "text/plain": [
              "array([[False, False, False],\n",
              "       [False, False, False]])"
            ]
          },
          "metadata": {},
          "execution_count": 77
        }
      ]
    },
    {
      "cell_type": "code",
      "source": [
        "# to add value in each other index\n",
        "ar+2\n",
        "# subctract values =  ar-2\n",
        "# subctract values\n",
        "ar-3"
      ],
      "metadata": {
        "colab": {
          "base_uri": "https://localhost:8080/"
        },
        "id": "MfbZqOhT61Iy",
        "outputId": "d7e4e350-b2c6-4cb6-a682-804530cc8d0b"
      },
      "execution_count": null,
      "outputs": [
        {
          "output_type": "execute_result",
          "data": {
            "text/plain": [
              "array([[3, 4, 5],\n",
              "       [6, 7, 8]])"
            ]
          },
          "metadata": {},
          "execution_count": 79
        }
      ]
    },
    {
      "cell_type": "code",
      "source": [
        "# check the divisible propertis\n",
        "ar/br*9/2-2+45==True"
      ],
      "metadata": {
        "colab": {
          "base_uri": "https://localhost:8080/"
        },
        "id": "RgLkspxx7UBH",
        "outputId": "ccf8ee07-0da4-4202-8e4d-31fb38cc2a72"
      },
      "execution_count": null,
      "outputs": [
        {
          "output_type": "execute_result",
          "data": {
            "text/plain": [
              "array([[False, False, False],\n",
              "       [False, False, False]])"
            ]
          },
          "metadata": {},
          "execution_count": 88
        }
      ]
    },
    {
      "cell_type": "code",
      "source": [
        "br[br/3==True]\n",
        "# It is not divisible by 3\n"
      ],
      "metadata": {
        "colab": {
          "base_uri": "https://localhost:8080/"
        },
        "id": "5qrV1qdb8FTV",
        "outputId": "d7225934-5cad-4221-d367-b770276859df"
      },
      "execution_count": null,
      "outputs": [
        {
          "output_type": "execute_result",
          "data": {
            "text/plain": [
              "array([], dtype=int64)"
            ]
          },
          "metadata": {},
          "execution_count": 87
        }
      ]
    },
    {
      "cell_type": "code",
      "source": [
        "br[br%3==True]"
      ],
      "metadata": {
        "id": "27i-is_i8mfw",
        "colab": {
          "base_uri": "https://localhost:8080/"
        },
        "outputId": "5a8fb319-d616-4f26-a5ec-5006469d8df4"
      },
      "execution_count": null,
      "outputs": [
        {
          "output_type": "execute_result",
          "data": {
            "text/plain": [
              "array([ 7, 10])"
            ]
          },
          "metadata": {},
          "execution_count": 94
        }
      ]
    },
    {
      "cell_type": "code",
      "source": [
        "a=np.arange(30).reshape(5,6)\n",
        "a\n",
        "a[a/3==False]\n",
        "a[a%3==True]\n",
        "a[a%3==False]\n",
        "a[a%2==True],[a%3==True]"
      ],
      "metadata": {
        "colab": {
          "base_uri": "https://localhost:8080/"
        },
        "id": "GCthn4-vJjm_",
        "outputId": "c4c569eb-e942-466e-ea67-bc9110982af0"
      },
      "execution_count": null,
      "outputs": [
        {
          "output_type": "execute_result",
          "data": {
            "text/plain": [
              "(array([ 1,  3,  5,  7,  9, 11, 13, 15, 17, 19, 21, 23, 25, 27, 29]),\n",
              " [array([[False,  True, False, False,  True, False],\n",
              "         [False,  True, False, False,  True, False],\n",
              "         [False,  True, False, False,  True, False],\n",
              "         [False,  True, False, False,  True, False],\n",
              "         [False,  True, False, False,  True, False]])])"
            ]
          },
          "metadata": {},
          "execution_count": 103
        }
      ]
    },
    {
      "cell_type": "code",
      "source": [
        "a[a%3 ==0]"
      ],
      "metadata": {
        "colab": {
          "base_uri": "https://localhost:8080/"
        },
        "id": "O4HD7EySKPy5",
        "outputId": "2e626bc7-a29e-415d-b122-e4c985c35ebc"
      },
      "execution_count": null,
      "outputs": [
        {
          "output_type": "execute_result",
          "data": {
            "text/plain": [
              "array([ 0,  3,  6,  9, 12, 15, 18, 21, 24, 27])"
            ]
          },
          "metadata": {},
          "execution_count": 114
        }
      ]
    },
    {
      "cell_type": "code",
      "source": [],
      "metadata": {
        "id": "bNGi_AFPNTce"
      },
      "execution_count": null,
      "outputs": []
    },
    {
      "cell_type": "code",
      "source": [
        "a = np.random.randn(30,25)\n",
        "a"
      ],
      "metadata": {
        "colab": {
          "base_uri": "https://localhost:8080/"
        },
        "id": "G4cUodH2LZne",
        "outputId": "f7bb7e85-b51f-4a80-b61a-c77c32104546"
      },
      "execution_count": null,
      "outputs": [
        {
          "output_type": "execute_result",
          "data": {
            "text/plain": [
              "array([[ 9.52076185e-01, -1.00474461e+00,  5.47237637e-01,\n",
              "        -9.17292962e-01, -5.57230558e-01,  1.34843574e+00,\n",
              "        -8.31401086e-01, -1.47687621e-01, -6.92534934e-01,\n",
              "        -2.05612243e-01, -5.18314328e-01,  5.09715886e-01,\n",
              "        -8.29896140e-02, -3.43252168e-01, -1.09612180e+00,\n",
              "         1.79345671e+00, -9.31270219e-01,  6.59062043e-01,\n",
              "        -1.00475756e+00, -1.87099520e+00, -9.74675280e-01,\n",
              "        -2.23738017e-01,  1.41426249e+00, -9.07910705e-02,\n",
              "        -1.07918983e+00],\n",
              "       [ 9.71444897e-01, -4.13180656e-01, -1.59660445e-01,\n",
              "        -1.86719861e-01,  8.96529777e-01,  7.42839876e-01,\n",
              "        -1.37510345e-01, -6.89519356e-01, -1.06968933e+00,\n",
              "        -8.51087746e-01, -1.56080614e-01, -1.90072744e-01,\n",
              "         3.54853503e-01,  1.86901718e+00,  4.13454770e-01,\n",
              "        -4.86598555e-02,  9.50849724e-02,  7.25603378e-01,\n",
              "         1.60638434e-01,  5.08145757e-01,  1.43680620e+00,\n",
              "        -4.48785323e-01, -4.85148850e-02, -9.13750979e-01,\n",
              "        -6.86711229e-01],\n",
              "       [ 1.31908816e-01,  1.58500757e+00, -1.70067491e+00,\n",
              "        -2.45715790e-01, -1.44781461e-01,  9.51208126e-01,\n",
              "         1.13417206e+00, -8.39023066e-01, -1.20067369e+00,\n",
              "         1.09955316e+00,  9.68194334e-01, -1.99969432e+00,\n",
              "         3.05379235e-01,  5.03670864e-01,  9.14913011e-01,\n",
              "         1.06658765e+00, -1.79246523e-01, -5.82664066e-01,\n",
              "        -5.29247776e-01,  5.36791144e-01, -5.32328070e-01,\n",
              "        -9.85627862e-01, -5.66647205e-01,  8.58122611e-01,\n",
              "        -1.14330952e+00],\n",
              "       [ 7.28602136e-01, -6.35770505e-01,  3.75010928e-01,\n",
              "        -3.02565562e-01, -3.19406232e-01, -2.51513233e+00,\n",
              "         1.69685510e+00, -2.12427262e+00,  1.17072733e+00,\n",
              "         1.05715926e+00, -1.23891733e-01,  9.73736235e-01,\n",
              "        -1.06117820e+00,  1.96653958e+00,  1.41603182e-01,\n",
              "         5.26237946e-01, -3.77161249e-02,  6.35978287e-01,\n",
              "         1.46380051e+00, -3.84262408e-01, -7.26632613e-01,\n",
              "        -4.92881275e-01,  9.36932045e-01, -5.85192946e-02,\n",
              "        -1.86282568e+00],\n",
              "       [ 1.09322750e+00,  1.88270746e+00,  6.68145201e-01,\n",
              "        -4.09720201e-02, -1.17752566e+00,  2.39124022e-01,\n",
              "         1.60627104e-01,  2.81980160e-01,  4.61413647e-01,\n",
              "        -9.65715318e-01,  8.05092773e-01,  1.08766750e+00,\n",
              "        -1.51258455e+00,  5.02453301e-01,  6.87565422e-01,\n",
              "         6.59683026e-01, -5.07320232e-01,  1.09690546e+00,\n",
              "        -2.03204648e-01,  1.56304177e-01,  9.28770877e-01,\n",
              "        -1.67687871e-01,  3.39233935e-01,  9.67398599e-01,\n",
              "        -7.58285251e-02],\n",
              "       [ 3.61853788e-01, -1.30908503e+00,  1.01069501e-01,\n",
              "        -1.01497899e+00,  3.15199553e-01,  2.69286861e-01,\n",
              "        -3.42831172e-01,  2.53187409e+00,  9.48055221e-01,\n",
              "         5.93290852e-01, -6.02263927e-01,  8.83722429e-01,\n",
              "        -4.87370162e-01, -2.09097848e-01,  4.55550862e-01,\n",
              "        -3.79233661e-01,  7.64211016e-01,  8.44321024e-01,\n",
              "         6.88959188e-01, -5.29337748e-01,  1.37669835e+00,\n",
              "         8.59720374e-01, -5.74314167e-01,  4.67785379e-01,\n",
              "        -4.96651773e-01],\n",
              "       [-1.17021398e+00,  5.66566703e-01, -4.29607096e-01,\n",
              "        -2.19084041e-01, -2.09349677e+00, -7.63911386e-01,\n",
              "        -9.74677823e-01, -4.34075608e-01,  8.45821344e-01,\n",
              "         7.19768712e-01, -3.80930484e-02,  1.96647753e-01,\n",
              "         4.66481080e-01, -2.88882149e-01, -4.45255051e-01,\n",
              "        -5.46103144e-01,  1.73679882e+00, -1.56815219e+00,\n",
              "        -1.13860630e+00, -7.05844652e-01,  9.34088553e-01,\n",
              "         5.15712494e-01,  3.32029020e-01,  3.04960554e-01,\n",
              "        -1.36777647e+00],\n",
              "       [ 1.78306486e+00,  8.38331744e-01, -2.56409071e-02,\n",
              "         4.22928017e-01,  4.17640779e-01,  1.45734630e+00,\n",
              "         1.09667259e+00,  8.06228202e-01,  1.27229461e+00,\n",
              "         1.00843197e+00,  1.85953527e-01, -1.09024812e+00,\n",
              "        -3.71735668e-01,  9.87101477e-02,  4.48650552e-01,\n",
              "        -2.23595114e-01,  1.37432151e-01,  1.82057601e-01,\n",
              "        -9.91824926e-01,  6.00762937e-01, -1.19666834e+00,\n",
              "         1.90213483e+00, -7.80299862e-01, -1.13937315e+00,\n",
              "        -1.64473172e+00],\n",
              "       [ 2.50006345e-01, -4.86467339e-01,  5.13668156e-01,\n",
              "        -1.59201869e-01,  7.99873934e-01, -2.20336790e+00,\n",
              "        -2.02037618e-01,  3.39444228e-01, -1.64061800e-01,\n",
              "         1.09540109e+00,  4.87898498e-01, -1.03650151e+00,\n",
              "         1.55475533e-01, -1.36857909e+00, -2.36635688e-01,\n",
              "        -8.58493459e-01,  2.07144328e+00, -2.06156821e-01,\n",
              "        -2.29439184e+00,  7.10061398e-01,  6.27481014e-01,\n",
              "         8.07818009e-01, -1.34795183e+00,  1.99742659e-02,\n",
              "         3.52626670e-01],\n",
              "       [-1.14345687e+00,  6.17440025e-01, -7.42437781e-01,\n",
              "         1.15246041e+00,  7.15486749e-01, -6.02506405e-01,\n",
              "         5.55830827e-01, -1.40751538e+00, -5.93921243e-01,\n",
              "         1.85090901e-01,  1.90633923e+00,  3.16655956e-01,\n",
              "         9.13863490e-01, -6.42425247e-01,  1.64788658e+00,\n",
              "        -9.74920913e-01, -2.22807025e+00,  8.76413791e-01,\n",
              "         1.50227625e+00,  1.53340577e+00,  1.28631710e-02,\n",
              "         1.22441813e+00,  1.31876731e+00,  7.12350926e-01,\n",
              "        -1.84350208e+00],\n",
              "       [ 3.13737286e-01, -9.73205573e-01, -2.14269435e-01,\n",
              "        -1.59895321e+00, -2.15678504e+00, -7.67826887e-01,\n",
              "        -9.51490956e-01, -8.53139358e-01,  8.03137087e-01,\n",
              "         3.22329842e-02,  6.19670392e-01,  8.35744651e-01,\n",
              "         2.82706725e-01, -2.72369453e+00,  5.76194838e-02,\n",
              "         7.84798347e-01, -1.21510584e+00, -2.06824613e-02,\n",
              "         1.43745600e+00, -7.10939777e-01, -1.30335738e-01,\n",
              "        -1.17969201e+00, -2.12743061e-02,  6.85458497e-01,\n",
              "        -5.74282987e-01],\n",
              "       [ 1.37867978e+00, -3.16528949e-01, -2.86561937e+00,\n",
              "        -3.30048389e-01, -1.06418991e+00,  1.19285696e+00,\n",
              "         1.60902053e+00, -9.36254394e-01, -5.40179210e-01,\n",
              "         1.52017561e-02,  1.00026358e+00, -2.02623725e-01,\n",
              "        -8.79013957e-01,  6.75620677e-01, -4.71622921e-01,\n",
              "        -1.24600443e-01,  1.13513325e+00,  4.79027849e-01,\n",
              "        -5.56089511e-01, -3.64889124e-01, -3.95387689e-01,\n",
              "        -2.80174658e-01, -3.15195198e+00,  6.47483877e-01,\n",
              "        -2.93757890e-03],\n",
              "       [-5.71154097e-01,  1.29127528e+00, -1.74663424e+00,\n",
              "        -1.93780332e+00, -1.42401380e+00, -1.49128885e+00,\n",
              "        -9.63683760e-01, -4.29109789e-01,  3.72409688e-01,\n",
              "        -5.74832043e-01,  1.59101998e+00,  1.14928294e+00,\n",
              "        -3.35485825e-01,  7.76071724e-01,  1.21673183e+00,\n",
              "         1.88330820e+00,  6.51431017e-01,  3.99675344e-01,\n",
              "        -8.64474530e-01,  6.87585125e-01, -6.96938645e-01,\n",
              "         1.11676271e-01, -1.98218480e-01, -1.72283279e-01,\n",
              "        -1.99865590e-01],\n",
              "       [ 5.33871616e-01, -4.42634420e-01, -1.75982548e+00,\n",
              "         1.50146748e-01,  8.84619493e-02, -1.54418811e+00,\n",
              "        -1.44276679e+00,  2.51608332e+00, -1.66465966e-01,\n",
              "        -7.71276955e-01,  1.38800546e+00,  2.02561517e+00,\n",
              "         3.07548201e-01, -4.50825032e-01,  2.12076893e+00,\n",
              "         7.11136610e-01,  1.17913311e+00,  1.59645993e-01,\n",
              "         3.21828387e-01,  1.54620324e+00, -1.20471820e+00,\n",
              "        -1.06976938e+00,  8.38050422e-01,  5.07646301e-01,\n",
              "         6.20325893e-01],\n",
              "       [-1.22831851e+00, -1.14824306e+00,  4.77458588e-01,\n",
              "        -1.37846100e+00, -1.77067399e-02,  9.50045828e-01,\n",
              "         2.50378602e+00,  1.12636305e+00,  7.16707326e-01,\n",
              "        -1.35630416e+00, -3.92693242e-01,  5.96552483e-01,\n",
              "        -2.11158331e-01, -1.82256443e+00,  1.05365035e+00,\n",
              "        -1.69647292e+00, -8.91107714e-02,  1.09800523e+00,\n",
              "         2.56801377e-01, -1.49350589e+00,  5.87464657e-01,\n",
              "         1.02592459e+00,  1.59634390e-01,  9.46248481e-01,\n",
              "         1.45133547e+00],\n",
              "       [ 1.18948032e-01, -8.82935478e-01,  2.99162148e+00,\n",
              "        -2.55195089e-01,  5.33262933e-02, -1.08415109e+00,\n",
              "        -6.28646170e-02, -5.85334633e-01,  8.35159787e-01,\n",
              "        -1.48013723e+00,  7.37458526e-01,  7.46614110e-01,\n",
              "         5.83950667e-01, -3.65782152e-01,  5.22905492e-01,\n",
              "         8.74679367e-01,  6.51561860e-01,  1.23947015e-01,\n",
              "         3.69322907e-01, -6.96136407e-01, -5.32134173e-01,\n",
              "         7.11159405e-01, -4.46934761e-01, -3.85007922e-01,\n",
              "         6.32284552e-02],\n",
              "       [-2.47165908e+00,  3.90821433e-01,  8.35116065e-02,\n",
              "         9.97810943e-01,  1.72601969e+00, -5.17265631e-02,\n",
              "         5.57379229e-01, -1.74528497e-01, -4.42687434e-01,\n",
              "        -2.03278829e+00,  4.71309886e-01,  2.01720478e-01,\n",
              "        -1.36836411e+00, -8.07588594e-01, -4.53111362e-01,\n",
              "        -1.36931878e+00,  9.27202743e-01, -9.84795385e-01,\n",
              "         1.64948059e+00,  8.54980841e-02,  6.85802592e-01,\n",
              "         1.26734317e+00, -6.52678883e-01,  2.10989169e+00,\n",
              "         2.09861572e-01],\n",
              "       [-7.57890897e-01,  4.27809787e-01, -6.05618648e-01,\n",
              "         1.25903102e+00, -1.62565402e+00,  5.61196849e-01,\n",
              "        -1.94751940e-03,  4.47323775e-01, -1.78543836e-01,\n",
              "        -1.09106349e+00, -1.41511071e-01,  2.05677313e+00,\n",
              "         8.20741720e-01,  1.24402773e+00,  5.84481893e-01,\n",
              "        -2.29167802e-01,  5.41018612e-02,  3.41484407e-02,\n",
              "         1.45080027e+00, -3.93725051e-01, -1.24501223e+00,\n",
              "        -8.37260762e-01, -9.76116673e-01, -1.21494440e-02,\n",
              "        -1.92454692e+00],\n",
              "       [-6.56877317e-01, -1.19463707e+00, -9.33239335e-03,\n",
              "        -1.00149962e+00, -2.19262453e+00,  4.93964621e-01,\n",
              "         4.27022142e-01,  9.39476103e-01,  8.00894802e-01,\n",
              "         1.56414190e-01, -6.67907969e-01, -3.37986132e-01,\n",
              "         8.73952176e-01, -2.84714829e-01,  7.59298193e-01,\n",
              "         2.11474236e+00, -1.30621795e-01, -1.81258722e+00,\n",
              "        -1.69698410e-01, -2.25692368e-01, -1.17831351e+00,\n",
              "         1.06110508e+00, -1.17363293e+00,  7.26107111e-01,\n",
              "         8.22029368e-01],\n",
              "       [-1.33863764e+00, -3.60442099e-01, -1.76749102e+00,\n",
              "        -1.55773015e+00,  3.67808999e-02, -2.23705209e-01,\n",
              "        -2.04993300e+00, -5.69082753e-01, -1.43832559e-01,\n",
              "        -1.30730831e+00,  1.06039671e+00,  9.52117617e-02,\n",
              "        -6.24631888e-02, -3.13278447e-01,  1.46549789e+00,\n",
              "        -1.36130943e+00,  3.68387657e-01, -7.97382574e-01,\n",
              "         3.93295304e-01, -2.44075914e+00,  6.69195644e-01,\n",
              "         8.07106793e-01, -1.60976072e+00, -1.28058634e+00,\n",
              "         7.10457860e-01],\n",
              "       [ 1.50973468e+00,  8.68642515e-01,  4.71336733e-01,\n",
              "        -7.13903804e-01, -1.46891803e-01,  1.12710927e+00,\n",
              "         1.06309312e+00, -5.80442545e-01, -1.11568051e+00,\n",
              "        -6.76641422e-01, -1.38770738e+00, -1.59251501e+00,\n",
              "         1.20874584e+00,  1.03234034e+00, -2.03913931e+00,\n",
              "         8.61628013e-01,  8.26919368e-01, -2.51377783e-01,\n",
              "         7.92561292e-01, -6.85527195e-01,  3.99187474e-01,\n",
              "        -1.19311844e+00, -1.77865167e+00, -2.31846901e-01,\n",
              "         1.47612907e-01],\n",
              "       [-1.22224766e+00, -7.23008511e-01,  1.59067501e+00,\n",
              "         4.72453108e-02,  9.83712750e-01,  1.67488696e+00,\n",
              "        -1.16883020e+00,  1.42625859e-01, -8.87890238e-02,\n",
              "        -8.26657473e-01,  3.21272526e-01, -1.66706382e+00,\n",
              "        -1.18490415e+00,  3.81734948e-01,  1.79954725e-01,\n",
              "         1.39487392e+00,  3.24303448e-01, -2.41685212e+00,\n",
              "         9.91680326e-01, -5.17595741e-01, -8.97113566e-01,\n",
              "        -1.12678424e-01,  6.45285334e-01, -1.10826635e+00,\n",
              "        -2.27934927e+00],\n",
              "       [-3.98539217e-01,  6.56480913e-01, -8.12615666e-01,\n",
              "         5.90457096e-01,  1.17465649e+00,  3.04195929e-01,\n",
              "        -4.73571883e-01,  1.20204728e+00,  9.47119158e-01,\n",
              "         1.35589409e+00, -1.62865788e-01,  1.59001866e+00,\n",
              "         8.41175308e-02,  8.43286507e-01,  3.55866836e-01,\n",
              "        -1.00064195e+00,  1.15234643e+00, -1.65480805e-01,\n",
              "        -1.09263823e+00,  1.58137326e+00, -2.58288739e-01,\n",
              "        -1.85822614e+00,  1.39168006e+00, -2.19042098e-01,\n",
              "        -7.02615308e-01],\n",
              "       [ 1.24292466e+00,  3.94355950e-01,  1.11508875e+00,\n",
              "        -4.63522342e-01, -1.19522454e+00,  1.48927405e+00,\n",
              "         2.01985811e+00, -6.45234657e-01,  8.56982597e-01,\n",
              "        -4.11587030e-04, -1.36347366e+00, -1.32436483e+00,\n",
              "        -1.92876436e-01, -2.62923951e-01,  1.21807611e+00,\n",
              "         1.82777617e-03, -6.92674053e-01, -9.47754578e-01,\n",
              "         9.63415873e-01, -1.11066400e+00, -1.79456133e+00,\n",
              "         1.38207086e+00,  3.69902153e-01,  6.71721313e-02,\n",
              "         5.49454004e-01],\n",
              "       [ 9.04932638e-01,  4.79640910e-01,  1.86536338e+00,\n",
              "        -6.92363317e-01,  1.55853624e-01, -2.56769549e-01,\n",
              "        -8.99818203e-01, -1.12521125e+00, -1.18045693e-02,\n",
              "         8.88361961e-01, -6.32336848e-01,  2.24850670e-01,\n",
              "         1.08228130e+00, -2.59689522e+00,  3.36581164e-02,\n",
              "        -1.34364031e+00, -7.47930121e-01, -3.11502931e+00,\n",
              "         6.75220925e-01, -5.73977702e-01, -1.68419218e+00,\n",
              "         1.92965822e+00,  4.26848936e-01, -2.90410428e-01,\n",
              "         9.90313211e-01],\n",
              "       [-2.27427410e+00,  2.03666360e-01, -1.24170918e-01,\n",
              "         8.40568495e-01,  2.43323350e-01, -1.40376315e+00,\n",
              "         1.16885586e+00, -7.73959463e-02,  4.86451998e-01,\n",
              "        -7.46671838e-01,  1.41477593e+00,  3.62886082e-01,\n",
              "        -1.40168690e+00,  4.24670217e-01,  2.57086314e-01,\n",
              "         7.35495583e-01, -3.09160852e-01,  1.18186854e+00,\n",
              "         7.59726262e-01, -4.82098282e-02, -1.97820597e-01,\n",
              "        -5.57734890e-01, -1.12378375e+00,  1.29029464e+00,\n",
              "        -3.90079779e-01],\n",
              "       [ 2.04134086e-01, -2.55697662e+00, -1.47605377e+00,\n",
              "        -1.41407762e+00,  6.89805692e-01, -1.33341710e+00,\n",
              "         6.82301511e-01, -2.19150327e-01, -1.99067759e+00,\n",
              "        -6.40031157e-01,  5.33751423e-01, -7.88833818e-01,\n",
              "        -1.80771737e+00, -1.74748778e+00, -8.00112128e-01,\n",
              "        -1.02885864e+00,  7.66938290e-02, -8.06417755e-02,\n",
              "        -8.23215205e-01,  5.35017267e-02, -5.22887105e-01,\n",
              "         1.07564662e+00, -5.39059725e-01,  3.66032817e-01,\n",
              "         7.37305557e-01],\n",
              "       [ 9.90252107e-01, -7.16133236e-01, -1.62174372e+00,\n",
              "         9.73388155e-01,  4.21921193e-01,  3.74627212e-01,\n",
              "         9.61942130e-01, -8.22515335e-01,  1.25595397e+00,\n",
              "         1.04874350e+00, -5.64431063e-01,  5.18470928e-02,\n",
              "         1.96429044e+00, -5.34487639e-01, -6.28482546e-01,\n",
              "         7.80687522e-01,  7.74360775e-01,  1.08179976e+00,\n",
              "         2.78385839e-01,  1.02525965e-01,  2.91088272e+00,\n",
              "        -6.93381411e-01, -9.72567083e-01, -4.45341209e-01,\n",
              "        -9.89905869e-01],\n",
              "       [ 5.72904731e-01, -2.13489227e+00,  5.29315104e-01,\n",
              "         1.37641113e+00, -7.84744966e-01, -8.89400250e-02,\n",
              "         5.45281960e-01,  3.76989711e-01,  4.35957572e-01,\n",
              "        -1.46569713e+00,  2.19540169e-01,  6.91814513e-01,\n",
              "        -1.12947145e-01, -1.07774524e-01, -4.79354990e-01,\n",
              "         1.63166859e+00, -2.69893257e-01, -1.30392261e+00,\n",
              "        -5.45843449e-01, -6.07473902e-01,  1.38956100e+00,\n",
              "         1.02311588e+00, -4.46180243e-01,  2.98425945e-01,\n",
              "        -4.69227398e-01],\n",
              "       [-4.70889514e-02,  1.94071416e+00, -1.08521688e+00,\n",
              "         1.18214241e-01,  2.88816849e-01, -6.46895614e-01,\n",
              "        -3.13382702e-01,  3.04379110e-01,  4.41222652e-01,\n",
              "         9.32860946e-01, -2.35723414e+00, -1.08138723e+00,\n",
              "         1.16253648e+00, -6.44054541e-01,  6.14567585e-01,\n",
              "         1.07688676e+00,  8.36601397e-01, -6.14129891e-01,\n",
              "         4.90974128e-01, -7.50328033e-01,  1.14176281e+00,\n",
              "         5.28112571e-01,  5.15850968e-01, -1.99541917e+00,\n",
              "         2.15797463e-01]])"
            ]
          },
          "metadata": {},
          "execution_count": 121
        }
      ]
    },
    {
      "cell_type": "code",
      "source": [
        "# making an array to arange data and then checking the indexing value what the value is of our focus item or data\n",
        "data= np.array([['cat','dog','monkey'],['lion','tiger','wolf'],['elephant','deer','stag']])\n",
        "data\n",
        "values[data=='lion']\n"
      ],
      "metadata": {
        "colab": {
          "base_uri": "https://localhost:8080/",
          "height": 193
        },
        "id": "MKe3Oz3yMfK5",
        "outputId": "a1e95de1-5140-491c-91d7-cb9df38b6c6c"
      },
      "execution_count": null,
      "outputs": [
        {
          "output_type": "error",
          "ename": "NameError",
          "evalue": "name 'values' is not defined",
          "traceback": [
            "\u001b[0;31m---------------------------------------------------------------------------\u001b[0m",
            "\u001b[0;31mNameError\u001b[0m                                 Traceback (most recent call last)",
            "\u001b[0;32m<ipython-input-123-59402067ba64>\u001b[0m in \u001b[0;36m<cell line: 4>\u001b[0;34m()\u001b[0m\n\u001b[1;32m      2\u001b[0m \u001b[0mdata\u001b[0m\u001b[0;34m=\u001b[0m \u001b[0mnp\u001b[0m\u001b[0;34m.\u001b[0m\u001b[0marray\u001b[0m\u001b[0;34m(\u001b[0m\u001b[0;34m[\u001b[0m\u001b[0;34m[\u001b[0m\u001b[0;34m'cat'\u001b[0m\u001b[0;34m,\u001b[0m\u001b[0;34m'dog'\u001b[0m\u001b[0;34m,\u001b[0m\u001b[0;34m'monkey'\u001b[0m\u001b[0;34m]\u001b[0m\u001b[0;34m,\u001b[0m\u001b[0;34m[\u001b[0m\u001b[0;34m'lion'\u001b[0m\u001b[0;34m,\u001b[0m\u001b[0;34m'tiger'\u001b[0m\u001b[0;34m,\u001b[0m\u001b[0;34m'wolf'\u001b[0m\u001b[0;34m]\u001b[0m\u001b[0;34m,\u001b[0m\u001b[0;34m[\u001b[0m\u001b[0;34m'elephant'\u001b[0m\u001b[0;34m,\u001b[0m\u001b[0;34m'deer'\u001b[0m\u001b[0;34m,\u001b[0m\u001b[0;34m'stag'\u001b[0m\u001b[0;34m]\u001b[0m\u001b[0;34m]\u001b[0m\u001b[0;34m)\u001b[0m\u001b[0;34m\u001b[0m\u001b[0;34m\u001b[0m\u001b[0m\n\u001b[1;32m      3\u001b[0m \u001b[0mdata\u001b[0m\u001b[0;34m\u001b[0m\u001b[0;34m\u001b[0m\u001b[0m\n\u001b[0;32m----> 4\u001b[0;31m \u001b[0mvalues\u001b[0m\u001b[0;34m[\u001b[0m\u001b[0mdata\u001b[0m\u001b[0;34m==\u001b[0m\u001b[0;34m'lion'\u001b[0m\u001b[0;34m]\u001b[0m\u001b[0;34m\u001b[0m\u001b[0;34m\u001b[0m\u001b[0m\n\u001b[0m",
            "\u001b[0;31mNameError\u001b[0m: name 'values' is not defined"
          ]
        }
      ]
    },
    {
      "source": [
        "import numpy as np\n",
        "\n",
        "# making an array to arrange data and then checking the indexing value what the value is of our focus item or data\n",
        "data = np.array([['cat', 'dog', 'monkey'], ['cat', 'dog', 'monkey'], ['cat', 'dog', 'monkey']])\n",
        "print(data)\n",
        "\n",
        "# Find the index of 'lion' in the array\n",
        "index = np.where(data == 'cat')\n",
        "print(index)\n",
        "\n",
        "# Get the value at the index of 'lion'\n",
        "value = data[index]\n",
        "print(value)"
      ],
      "cell_type": "code",
      "metadata": {
        "colab": {
          "base_uri": "https://localhost:8080/"
        },
        "id": "dBqmJ6f2P3m9",
        "outputId": "f826053f-c85e-44d0-dfbc-5b4dd180e532"
      },
      "execution_count": null,
      "outputs": [
        {
          "output_type": "stream",
          "name": "stdout",
          "text": [
            "[['cat' 'dog' 'monkey']\n",
            " ['cat' 'dog' 'monkey']\n",
            " ['cat' 'dog' 'monkey']]\n",
            "(array([0, 1, 2]), array([0, 0, 0]))\n",
            "['cat' 'cat' 'cat']\n"
          ]
        }
      ]
    },
    {
      "cell_type": "code",
      "source": [
        "arr=np.random.randn(10,10)\n",
        "print(arr)\n",
        "print(arr.round(arr,2))"
      ],
      "metadata": {
        "colab": {
          "base_uri": "https://localhost:8080/",
          "height": 697
        },
        "id": "6Fu7r5ZTOSF0",
        "outputId": "dcecec3b-3473-467e-8bcb-4980d03e189c"
      },
      "execution_count": null,
      "outputs": [
        {
          "output_type": "stream",
          "name": "stdout",
          "text": [
            "[[-3.13431623e-01 -3.51170876e-01 -4.51365794e-01  8.43674337e-01\n",
            "   1.14397735e+00 -3.04461607e-01 -7.53618876e-01 -1.34141775e+00\n",
            "  -1.38597252e+00 -4.29211084e-01]\n",
            " [-1.90493610e+00  4.83532318e-01 -5.23612686e-01  7.69738261e-01\n",
            "  -1.58453337e+00 -1.54730984e+00  8.14149854e-01  5.42083980e-01\n",
            "  -1.07810139e+00 -4.79523536e-02]\n",
            " [ 1.87660673e-01 -1.18160224e+00 -8.35421214e-01  2.25588330e+00\n",
            "   1.83051252e+00 -6.60113275e-01 -9.20540905e-01 -4.64038858e-01\n",
            "   1.16169779e-01 -8.24346409e-01]\n",
            " [-5.21816196e-01  7.68393148e-02 -1.71853043e-01  1.84314903e+00\n",
            "   1.00842058e+00  2.81820686e-03  1.22728789e+00 -7.39232956e-01\n",
            "   1.18781888e+00  4.17903622e-02]\n",
            " [ 1.08042151e+00  1.91946350e+00  2.17834235e-03 -7.79588697e-01\n",
            "   3.14427756e-01 -7.44797798e-01 -8.82504681e-01 -3.20321226e-01\n",
            "  -1.66063015e+00  3.09613727e-01]\n",
            " [ 8.70305661e-01 -4.03766697e-01  2.83177747e-01 -1.21046863e+00\n",
            "   7.90016364e-01 -1.71353920e+00 -7.18623544e-01  7.01977310e-01\n",
            "   7.46813388e-01 -3.70533884e-02]\n",
            " [ 5.00535743e-01 -1.00914029e+00 -1.39947690e+00  8.43819130e-01\n",
            "   5.22404213e-01 -5.63470838e-01  4.89171909e-01 -1.67350117e-01\n",
            "  -1.21206845e+00  6.25183480e-01]\n",
            " [-6.76202140e-01  4.77293407e-01  1.31970096e+00 -4.46724069e-01\n",
            "  -6.95040133e-01  1.00852216e+00  1.19721291e-01  2.80551054e-01\n",
            "   6.19013610e-01 -1.21149974e-01]\n",
            " [ 3.07336443e-01  1.15525453e+00  2.41975601e+00  5.46919659e-01\n",
            "  -1.33049250e+00  6.25197306e-01  2.68547336e-01 -2.23612979e-01\n",
            "  -1.17508184e+00  8.86222169e-01]\n",
            " [-3.64343517e-01 -3.61600638e-01 -7.64257814e-01 -7.46710699e-01\n",
            "  -3.96552219e-02 -6.59694517e-01  1.63200974e+00  1.71648144e+00\n",
            "  -1.10612898e-01 -1.15947552e+00]]\n"
          ]
        },
        {
          "output_type": "error",
          "ename": "TypeError",
          "evalue": "only integer scalar arrays can be converted to a scalar index",
          "traceback": [
            "\u001b[0;31m---------------------------------------------------------------------------\u001b[0m",
            "\u001b[0;31mTypeError\u001b[0m                                 Traceback (most recent call last)",
            "\u001b[0;32m<ipython-input-131-0a2e8a90948d>\u001b[0m in \u001b[0;36m<cell line: 3>\u001b[0;34m()\u001b[0m\n\u001b[1;32m      1\u001b[0m \u001b[0marr\u001b[0m\u001b[0;34m=\u001b[0m\u001b[0mnp\u001b[0m\u001b[0;34m.\u001b[0m\u001b[0mrandom\u001b[0m\u001b[0;34m.\u001b[0m\u001b[0mrandn\u001b[0m\u001b[0;34m(\u001b[0m\u001b[0;36m10\u001b[0m\u001b[0;34m,\u001b[0m\u001b[0;36m10\u001b[0m\u001b[0;34m)\u001b[0m\u001b[0;34m\u001b[0m\u001b[0;34m\u001b[0m\u001b[0m\n\u001b[1;32m      2\u001b[0m \u001b[0mprint\u001b[0m\u001b[0;34m(\u001b[0m\u001b[0marr\u001b[0m\u001b[0;34m)\u001b[0m\u001b[0;34m\u001b[0m\u001b[0;34m\u001b[0m\u001b[0m\n\u001b[0;32m----> 3\u001b[0;31m \u001b[0mprint\u001b[0m\u001b[0;34m(\u001b[0m\u001b[0marr\u001b[0m\u001b[0;34m.\u001b[0m\u001b[0mround\u001b[0m\u001b[0;34m(\u001b[0m\u001b[0marr\u001b[0m\u001b[0;34m,\u001b[0m\u001b[0;36m2\u001b[0m\u001b[0;34m)\u001b[0m\u001b[0;34m)\u001b[0m\u001b[0;34m\u001b[0m\u001b[0;34m\u001b[0m\u001b[0m\n\u001b[0m",
            "\u001b[0;31mTypeError\u001b[0m: only integer scalar arrays can be converted to a scalar index"
          ]
        }
      ]
    },
    {
      "source": [
        "import numpy as np\n",
        "arr=np.random.randn(10,10)\n",
        "print(arr)\n",
        "print(np.round(arr,2)) # Changed arr.round(arr,2) to np.round(arr,2)"
      ],
      "cell_type": "code",
      "metadata": {
        "colab": {
          "base_uri": "https://localhost:8080/"
        },
        "id": "6w7iZl3XRd0X",
        "outputId": "c360425e-919c-4330-cad7-a3ff5a176acf"
      },
      "execution_count": null,
      "outputs": [
        {
          "output_type": "stream",
          "name": "stdout",
          "text": [
            "[[-1.41304529  2.43585622  0.6396201   1.6947059   0.02037811  1.05725757\n",
            "  -0.16808718  0.0827877  -2.15547816 -1.72098147]\n",
            " [ 1.47384084  1.27365181  1.59832573  1.19320168  0.08252501 -0.37253441\n",
            "  -1.09869799 -0.20593141  0.47774428 -0.30816125]\n",
            " [-1.07454689 -0.50304877  1.04430866 -0.77658543 -0.66787919 -0.88142909\n",
            "   0.29705184 -0.27464377  1.78475082 -1.35329351]\n",
            " [ 2.26373802  1.35506458 -0.61664922 -1.18123997 -0.32855711  0.69734589\n",
            "  -0.69460011 -1.33056651  0.03783039  1.18938554]\n",
            " [ 0.80758037 -2.24710925  0.05015831  0.10609401  0.25191089 -0.50090555\n",
            "  -0.16475648 -1.23969489  1.33748214  0.87151564]\n",
            " [-0.62955544 -0.43313699 -0.69169936 -1.82098003  0.59651288  0.28865739\n",
            "  -0.99066643  0.5208225   0.01521929 -0.32838914]\n",
            " [-0.17728304 -0.72009436  0.01109481  0.20882145 -1.51472016 -1.30460697\n",
            "  -0.2586896  -1.65313813  0.35896036  0.15242091]\n",
            " [-0.77850367  1.95035095 -0.62162083  1.76336046  0.45056778 -0.8814283\n",
            "   0.21385852  1.63620362 -0.23251718 -0.15054536]\n",
            " [ 0.49225946 -1.85988353 -0.38098272 -0.88275663 -1.36941127 -0.87662561\n",
            "  -0.6134305  -0.4149484   1.1553445  -1.2958451 ]\n",
            " [-0.23582975 -1.25418944 -1.16830269  0.94315634  0.99282191  0.82550115\n",
            "  -0.81516884 -2.26278023 -1.54534375  0.56411157]]\n",
            "[[-1.41  2.44  0.64  1.69  0.02  1.06 -0.17  0.08 -2.16 -1.72]\n",
            " [ 1.47  1.27  1.6   1.19  0.08 -0.37 -1.1  -0.21  0.48 -0.31]\n",
            " [-1.07 -0.5   1.04 -0.78 -0.67 -0.88  0.3  -0.27  1.78 -1.35]\n",
            " [ 2.26  1.36 -0.62 -1.18 -0.33  0.7  -0.69 -1.33  0.04  1.19]\n",
            " [ 0.81 -2.25  0.05  0.11  0.25 -0.5  -0.16 -1.24  1.34  0.87]\n",
            " [-0.63 -0.43 -0.69 -1.82  0.6   0.29 -0.99  0.52  0.02 -0.33]\n",
            " [-0.18 -0.72  0.01  0.21 -1.51 -1.3  -0.26 -1.65  0.36  0.15]\n",
            " [-0.78  1.95 -0.62  1.76  0.45 -0.88  0.21  1.64 -0.23 -0.15]\n",
            " [ 0.49 -1.86 -0.38 -0.88 -1.37 -0.88 -0.61 -0.41  1.16 -1.3 ]\n",
            " [-0.24 -1.25 -1.17  0.94  0.99  0.83 -0.82 -2.26 -1.55  0.56]]\n"
          ]
        }
      ]
    },
    {
      "cell_type": "code",
      "source": [
        "print(arr[1:10:2, ::])\n",
        "print(arr[2:2:2, 1:6])\n"
      ],
      "metadata": {
        "colab": {
          "base_uri": "https://localhost:8080/",
          "height": 176
        },
        "id": "njVSW5u6Q3Ur",
        "outputId": "be7f316e-09ac-4323-8892-a98634017abc"
      },
      "execution_count": null,
      "outputs": [
        {
          "output_type": "error",
          "ename": "TypeError",
          "evalue": "'numpy._ArrayFunctionDispatcher' object is not subscriptable",
          "traceback": [
            "\u001b[0;31m---------------------------------------------------------------------------\u001b[0m",
            "\u001b[0;31mTypeError\u001b[0m                                 Traceback (most recent call last)",
            "\u001b[0;32m<ipython-input-149-794475e1e6e1>\u001b[0m in \u001b[0;36m<cell line: 1>\u001b[0;34m()\u001b[0m\n\u001b[0;32m----> 1\u001b[0;31m \u001b[0mprint\u001b[0m\u001b[0;34m(\u001b[0m\u001b[0marr\u001b[0m\u001b[0;34m[\u001b[0m\u001b[0;36m1\u001b[0m\u001b[0;34m:\u001b[0m\u001b[0;36m10\u001b[0m\u001b[0;34m:\u001b[0m\u001b[0;36m2\u001b[0m\u001b[0;34m,\u001b[0m \u001b[0;34m:\u001b[0m\u001b[0;34m:\u001b[0m\u001b[0;34m]\u001b[0m\u001b[0;34m)\u001b[0m\u001b[0;34m\u001b[0m\u001b[0;34m\u001b[0m\u001b[0m\n\u001b[0m\u001b[1;32m      2\u001b[0m \u001b[0mprint\u001b[0m\u001b[0;34m(\u001b[0m\u001b[0marr\u001b[0m\u001b[0;34m[\u001b[0m\u001b[0;36m2\u001b[0m\u001b[0;34m:\u001b[0m\u001b[0;36m2\u001b[0m\u001b[0;34m:\u001b[0m\u001b[0;36m2\u001b[0m\u001b[0;34m,\u001b[0m \u001b[0;36m1\u001b[0m\u001b[0;34m:\u001b[0m\u001b[0;36m6\u001b[0m\u001b[0;34m]\u001b[0m\u001b[0;34m)\u001b[0m\u001b[0;34m\u001b[0m\u001b[0;34m\u001b[0m\u001b[0m\n\u001b[1;32m      3\u001b[0m \u001b[0mnp\u001b[0m\u001b[0;34m.\u001b[0m\u001b[0mmax\u001b[0m\u001b[0;34m(\u001b[0m\u001b[0marr\u001b[0m\u001b[0;34m)\u001b[0m\u001b[0;34m\u001b[0m\u001b[0;34m\u001b[0m\u001b[0m\n",
            "\u001b[0;31mTypeError\u001b[0m: 'numpy._ArrayFunctionDispatcher' object is not subscriptable"
          ]
        }
      ]
    },
    {
      "cell_type": "code",
      "source": [
        "import numpy as np\n",
        "np.max(arr)\n",
        "x=np.array([1,3,5,34,45,5,6,6,67,6])\n",
        "y=np.array([23,454,56,56,67,6778,785,6,4534])\n",
        "np.maximum(x,y)"
      ],
      "metadata": {
        "colab": {
          "base_uri": "https://localhost:8080/",
          "height": 176
        },
        "id": "i2qBGHHFSzMN",
        "outputId": "c305155b-ae20-488b-ae2e-e6f822952146"
      },
      "execution_count": null,
      "outputs": [
        {
          "output_type": "error",
          "ename": "ValueError",
          "evalue": "operands could not be broadcast together with shapes (10,) (9,) ",
          "traceback": [
            "\u001b[0;31m---------------------------------------------------------------------------\u001b[0m",
            "\u001b[0;31mValueError\u001b[0m                                Traceback (most recent call last)",
            "\u001b[0;32m<ipython-input-155-f2d91fc5fad1>\u001b[0m in \u001b[0;36m<cell line: 5>\u001b[0;34m()\u001b[0m\n\u001b[1;32m      3\u001b[0m \u001b[0mx\u001b[0m\u001b[0;34m=\u001b[0m\u001b[0mnp\u001b[0m\u001b[0;34m.\u001b[0m\u001b[0marray\u001b[0m\u001b[0;34m(\u001b[0m\u001b[0;34m[\u001b[0m\u001b[0;36m1\u001b[0m\u001b[0;34m,\u001b[0m\u001b[0;36m3\u001b[0m\u001b[0;34m,\u001b[0m\u001b[0;36m5\u001b[0m\u001b[0;34m,\u001b[0m\u001b[0;36m34\u001b[0m\u001b[0;34m,\u001b[0m\u001b[0;36m45\u001b[0m\u001b[0;34m,\u001b[0m\u001b[0;36m5\u001b[0m\u001b[0;34m,\u001b[0m\u001b[0;36m6\u001b[0m\u001b[0;34m,\u001b[0m\u001b[0;36m6\u001b[0m\u001b[0;34m,\u001b[0m\u001b[0;36m67\u001b[0m\u001b[0;34m,\u001b[0m\u001b[0;36m6\u001b[0m\u001b[0;34m]\u001b[0m\u001b[0;34m)\u001b[0m\u001b[0;34m\u001b[0m\u001b[0;34m\u001b[0m\u001b[0m\n\u001b[1;32m      4\u001b[0m \u001b[0my\u001b[0m\u001b[0;34m=\u001b[0m\u001b[0mnp\u001b[0m\u001b[0;34m.\u001b[0m\u001b[0marray\u001b[0m\u001b[0;34m(\u001b[0m\u001b[0;34m[\u001b[0m\u001b[0;36m23\u001b[0m\u001b[0;34m,\u001b[0m\u001b[0;36m454\u001b[0m\u001b[0;34m,\u001b[0m\u001b[0;36m56\u001b[0m\u001b[0;34m,\u001b[0m\u001b[0;36m56\u001b[0m\u001b[0;34m,\u001b[0m\u001b[0;36m67\u001b[0m\u001b[0;34m,\u001b[0m\u001b[0;36m6778\u001b[0m\u001b[0;34m,\u001b[0m\u001b[0;36m785\u001b[0m\u001b[0;34m,\u001b[0m\u001b[0;36m6\u001b[0m\u001b[0;34m,\u001b[0m\u001b[0;36m4534\u001b[0m\u001b[0;34m]\u001b[0m\u001b[0;34m)\u001b[0m\u001b[0;34m\u001b[0m\u001b[0;34m\u001b[0m\u001b[0m\n\u001b[0;32m----> 5\u001b[0;31m \u001b[0mnp\u001b[0m\u001b[0;34m.\u001b[0m\u001b[0mmaximum\u001b[0m\u001b[0;34m(\u001b[0m\u001b[0mx\u001b[0m\u001b[0;34m,\u001b[0m\u001b[0my\u001b[0m\u001b[0;34m)\u001b[0m\u001b[0;34m\u001b[0m\u001b[0;34m\u001b[0m\u001b[0m\n\u001b[0m",
            "\u001b[0;31mValueError\u001b[0m: operands could not be broadcast together with shapes (10,) (9,) "
          ]
        }
      ]
    },
    {
      "source": [
        "import numpy as np\n",
        "\n",
        "np.max(arr)\n",
        "x = np.array([1, 3, 5, 34, 45, 5, 6, 6, 67, 6])\n",
        "# Ensure y has the same number of elements as x\n",
        "y = np.array([23, 454, 56, 56, 67, 6778, 785, 6, 4534, 0])  # Added an element to match the size of x\n",
        "np.maximum(x, y)"
      ],
      "cell_type": "code",
      "metadata": {
        "id": "ijjZp3s3XSJi",
        "outputId": "bc3b2bae-177e-4b6d-a97c-649f491883a7",
        "colab": {
          "base_uri": "https://localhost:8080/"
        }
      },
      "execution_count": null,
      "outputs": [
        {
          "output_type": "execute_result",
          "data": {
            "text/plain": [
              "array([  23,  454,   56,   56,   67, 6778,  785,    6, 4534,    6])"
            ]
          },
          "metadata": {},
          "execution_count": 156
        }
      ]
    },
    {
      "cell_type": "code",
      "source": [
        "x=np.arange(6).reshape(3,2)\n",
        "print(x)\n",
        "y = np.arange(4).reshape(2,2)\n",
        "print(y)"
      ],
      "metadata": {
        "id": "92rZKmhPTr2_",
        "colab": {
          "base_uri": "https://localhost:8080/"
        },
        "outputId": "9c4d130a-bd1c-4da0-ddc2-f25f42f32c68"
      },
      "execution_count": 166,
      "outputs": [
        {
          "output_type": "stream",
          "name": "stdout",
          "text": [
            "[[0 1]\n",
            " [2 3]\n",
            " [4 5]]\n",
            "[[0 1]\n",
            " [2 3]]\n"
          ]
        }
      ]
    },
    {
      "cell_type": "code",
      "source": [
        "np.dot(x,y)"
      ],
      "metadata": {
        "colab": {
          "base_uri": "https://localhost:8080/"
        },
        "id": "pN7D0MQ8p1RN",
        "outputId": "a7915d36-20d7-4b59-afe2-899846ee039b"
      },
      "execution_count": 167,
      "outputs": [
        {
          "output_type": "execute_result",
          "data": {
            "text/plain": [
              "array([[ 2,  3],\n",
              "       [ 6, 11],\n",
              "       [10, 19]])"
            ]
          },
          "metadata": {},
          "execution_count": 167
        }
      ]
    },
    {
      "cell_type": "code",
      "source": [
        "x.T\n",
        "x.flatten()"
      ],
      "metadata": {
        "colab": {
          "base_uri": "https://localhost:8080/"
        },
        "id": "u3mxkFJyqXC5",
        "outputId": "9dcf721c-33ee-4225-eb82-07d93c3165d6"
      },
      "execution_count": 170,
      "outputs": [
        {
          "output_type": "execute_result",
          "data": {
            "text/plain": [
              "array([0, 1, 2, 3, 4, 5])"
            ]
          },
          "metadata": {},
          "execution_count": 170
        }
      ]
    },
    {
      "cell_type": "code",
      "source": [
        "y= np.arange(6).reshape(2,3)\n",
        "y\n",
        "y.reshape(3,2)"
      ],
      "metadata": {
        "colab": {
          "base_uri": "https://localhost:8080/"
        },
        "id": "lz-vKLKXuxt6",
        "outputId": "a55c4f0c-c7b2-42ce-ba58-7a869515aea7"
      },
      "execution_count": 178,
      "outputs": [
        {
          "output_type": "execute_result",
          "data": {
            "text/plain": [
              "array([[0, 1],\n",
              "       [2, 3],\n",
              "       [4, 5]])"
            ]
          },
          "metadata": {},
          "execution_count": 178
        }
      ]
    },
    {
      "cell_type": "code",
      "source": [
        "# to concatenate the two arrays basically it combine two array\n",
        "x=np.arange(6).reshape(3,2)\n",
        "y=np.arange(6,12).reshape(3,2)\n",
        "np.concatenate((x,y),axis=1)"
      ],
      "metadata": {
        "colab": {
          "base_uri": "https://localhost:8080/"
        },
        "id": "wpsI13C7wMGy",
        "outputId": "169c5614-01a6-4afe-f26d-29a593b89df4"
      },
      "execution_count": 181,
      "outputs": [
        {
          "output_type": "execute_result",
          "data": {
            "text/plain": [
              "array([[ 0,  1,  6,  7],\n",
              "       [ 2,  3,  8,  9],\n",
              "       [ 4,  5, 10, 11]])"
            ]
          },
          "metadata": {},
          "execution_count": 181
        }
      ]
    },
    {
      "cell_type": "code",
      "source": [
        "np.hstack((x,y))"
      ],
      "metadata": {
        "colab": {
          "base_uri": "https://localhost:8080/"
        },
        "id": "R-WL4r-4xEP1",
        "outputId": "21c1f828-6548-490b-dbf4-1e4ad2775971"
      },
      "execution_count": 182,
      "outputs": [
        {
          "output_type": "execute_result",
          "data": {
            "text/plain": [
              "array([[ 0,  1,  6,  7],\n",
              "       [ 2,  3,  8,  9],\n",
              "       [ 4,  5, 10, 11]])"
            ]
          },
          "metadata": {},
          "execution_count": 182
        }
      ]
    },
    {
      "cell_type": "code",
      "source": [],
      "metadata": {
        "id": "EX7_zSbAybLm"
      },
      "execution_count": null,
      "outputs": []
    }
  ]
}